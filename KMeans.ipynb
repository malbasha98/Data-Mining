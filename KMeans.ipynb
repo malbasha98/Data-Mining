{
 "cells": [
  {
   "cell_type": "code",
   "execution_count": 15,
   "id": "065cb088",
   "metadata": {},
   "outputs": [],
   "source": [
    "%matplotlib inline\n",
    "\n",
    "import pandas as pd\n",
    "import numpy as np\n",
    "import random\n",
    "import matplotlib.pyplot as plt\n",
    "import seaborn as sns\n",
    "from sklearn.preprocessing import LabelEncoder, OneHotEncoder\n",
    "from sklearn import preprocessing\n",
    "from numpy.random import uniform\n",
    "from scipy.spatial.distance import cdist\n",
    "from sklearn.decomposition import PCA\n",
    "import plotly as py\n",
    "import plotly.graph_objs as go\n",
    "from plotly.offline import download_plotlyjs, init_notebook_mode, plot, iplot"
   ]
  },
  {
   "cell_type": "code",
   "execution_count": 2,
   "id": "1e8ef908",
   "metadata": {},
   "outputs": [
    {
     "data": {
      "text/html": [
       "<div>\n",
       "<style scoped>\n",
       "    .dataframe tbody tr th:only-of-type {\n",
       "        vertical-align: middle;\n",
       "    }\n",
       "\n",
       "    .dataframe tbody tr th {\n",
       "        vertical-align: top;\n",
       "    }\n",
       "\n",
       "    .dataframe thead th {\n",
       "        text-align: right;\n",
       "    }\n",
       "</style>\n",
       "<table border=\"1\" class=\"dataframe\">\n",
       "  <thead>\n",
       "    <tr style=\"text-align: right;\">\n",
       "      <th></th>\n",
       "      <th>Channel</th>\n",
       "      <th>Region</th>\n",
       "      <th>Fresh</th>\n",
       "      <th>Milk</th>\n",
       "      <th>Grocery</th>\n",
       "      <th>Frozen</th>\n",
       "      <th>Detergents_Paper</th>\n",
       "      <th>Delicassen</th>\n",
       "    </tr>\n",
       "  </thead>\n",
       "  <tbody>\n",
       "    <tr>\n",
       "      <th>0</th>\n",
       "      <td>2</td>\n",
       "      <td>3</td>\n",
       "      <td>12669</td>\n",
       "      <td>9656</td>\n",
       "      <td>7561</td>\n",
       "      <td>214</td>\n",
       "      <td>2674</td>\n",
       "      <td>1338</td>\n",
       "    </tr>\n",
       "    <tr>\n",
       "      <th>1</th>\n",
       "      <td>2</td>\n",
       "      <td>3</td>\n",
       "      <td>7057</td>\n",
       "      <td>9810</td>\n",
       "      <td>9568</td>\n",
       "      <td>1762</td>\n",
       "      <td>3293</td>\n",
       "      <td>1776</td>\n",
       "    </tr>\n",
       "    <tr>\n",
       "      <th>2</th>\n",
       "      <td>2</td>\n",
       "      <td>3</td>\n",
       "      <td>6353</td>\n",
       "      <td>8808</td>\n",
       "      <td>7684</td>\n",
       "      <td>2405</td>\n",
       "      <td>3516</td>\n",
       "      <td>7844</td>\n",
       "    </tr>\n",
       "    <tr>\n",
       "      <th>3</th>\n",
       "      <td>1</td>\n",
       "      <td>3</td>\n",
       "      <td>13265</td>\n",
       "      <td>1196</td>\n",
       "      <td>4221</td>\n",
       "      <td>6404</td>\n",
       "      <td>507</td>\n",
       "      <td>1788</td>\n",
       "    </tr>\n",
       "    <tr>\n",
       "      <th>4</th>\n",
       "      <td>2</td>\n",
       "      <td>3</td>\n",
       "      <td>22615</td>\n",
       "      <td>5410</td>\n",
       "      <td>7198</td>\n",
       "      <td>3915</td>\n",
       "      <td>1777</td>\n",
       "      <td>5185</td>\n",
       "    </tr>\n",
       "  </tbody>\n",
       "</table>\n",
       "</div>"
      ],
      "text/plain": [
       "   Channel  Region  Fresh  Milk  Grocery  Frozen  Detergents_Paper  Delicassen\n",
       "0        2       3  12669  9656     7561     214              2674        1338\n",
       "1        2       3   7057  9810     9568    1762              3293        1776\n",
       "2        2       3   6353  8808     7684    2405              3516        7844\n",
       "3        1       3  13265  1196     4221    6404               507        1788\n",
       "4        2       3  22615  5410     7198    3915              1777        5185"
      ]
     },
     "execution_count": 2,
     "metadata": {},
     "output_type": "execute_result"
    }
   ],
   "source": [
    "df=pd.read_csv(\"C:/Users/38164/Master studije/Data Mining/04 DM Klasterovanje/Wholesale customers data.csv\")\n",
    "df.head()"
   ]
  },
  {
   "cell_type": "markdown",
   "id": "7718c687",
   "metadata": {},
   "source": [
    "## Preprocesiranje:"
   ]
  },
  {
   "cell_type": "markdown",
   "id": "31651b31",
   "metadata": {},
   "source": [
    "Informacije o podacima:"
   ]
  },
  {
   "cell_type": "code",
   "execution_count": 3,
   "id": "c058d2f2",
   "metadata": {},
   "outputs": [
    {
     "name": "stdout",
     "output_type": "stream",
     "text": [
      "<class 'pandas.core.frame.DataFrame'>\n",
      "RangeIndex: 440 entries, 0 to 439\n",
      "Data columns (total 8 columns):\n",
      " #   Column            Non-Null Count  Dtype\n",
      "---  ------            --------------  -----\n",
      " 0   Channel           440 non-null    int64\n",
      " 1   Region            440 non-null    int64\n",
      " 2   Fresh             440 non-null    int64\n",
      " 3   Milk              440 non-null    int64\n",
      " 4   Grocery           440 non-null    int64\n",
      " 5   Frozen            440 non-null    int64\n",
      " 6   Detergents_Paper  440 non-null    int64\n",
      " 7   Delicassen        440 non-null    int64\n",
      "dtypes: int64(8)\n",
      "memory usage: 27.6 KB\n"
     ]
    }
   ],
   "source": [
    "df.info()"
   ]
  },
  {
   "cell_type": "markdown",
   "id": "778a72ad",
   "metadata": {},
   "source": [
    "Enkodiranje nominalnih atributa:"
   ]
  },
  {
   "cell_type": "code",
   "execution_count": 4,
   "id": "29f434db",
   "metadata": {},
   "outputs": [],
   "source": [
    "# Enkodiranje Channel atributa\n",
    "ohe = OneHotEncoder(sparse=False)\n",
    "ohe = ohe.fit(df[['Channel']])\n",
    "prefix = 'Channel'\n",
    "onehot_encoded = ohe.transform(df[['Channel']])\n",
    "features_names_prefixed = [ f\"{prefix}_{category}\" for category in ohe.categories_[0]]\n",
    "df = pd.concat([df, pd.DataFrame(onehot_encoded, columns=features_names_prefixed)], axis=1)\n",
    "df.drop(['Channel'],axis=1, inplace=True)"
   ]
  },
  {
   "cell_type": "code",
   "execution_count": 5,
   "id": "07763712",
   "metadata": {},
   "outputs": [],
   "source": [
    "# Enkodiranje Region atributa\n",
    "ohe = OneHotEncoder(sparse=False)\n",
    "ohe = ohe.fit(df[['Region']])\n",
    "prefix = 'Region'\n",
    "onehot_encoded = ohe.transform(df[['Region']])\n",
    "features_names_prefixed = [ f\"{prefix}_{category}\" for category in ohe.categories_[0]]\n",
    "df = pd.concat([df, pd.DataFrame(onehot_encoded, columns=features_names_prefixed)], axis=1)\n",
    "df.drop(['Region'],axis=1, inplace=True)"
   ]
  },
  {
   "cell_type": "code",
   "execution_count": 6,
   "id": "77bdc65a",
   "metadata": {},
   "outputs": [
    {
     "data": {
      "text/html": [
       "<div>\n",
       "<style scoped>\n",
       "    .dataframe tbody tr th:only-of-type {\n",
       "        vertical-align: middle;\n",
       "    }\n",
       "\n",
       "    .dataframe tbody tr th {\n",
       "        vertical-align: top;\n",
       "    }\n",
       "\n",
       "    .dataframe thead th {\n",
       "        text-align: right;\n",
       "    }\n",
       "</style>\n",
       "<table border=\"1\" class=\"dataframe\">\n",
       "  <thead>\n",
       "    <tr style=\"text-align: right;\">\n",
       "      <th></th>\n",
       "      <th>Fresh</th>\n",
       "      <th>Milk</th>\n",
       "      <th>Grocery</th>\n",
       "      <th>Frozen</th>\n",
       "      <th>Detergents_Paper</th>\n",
       "      <th>Delicassen</th>\n",
       "      <th>Channel_1</th>\n",
       "      <th>Channel_2</th>\n",
       "      <th>Region_1</th>\n",
       "      <th>Region_2</th>\n",
       "      <th>Region_3</th>\n",
       "    </tr>\n",
       "  </thead>\n",
       "  <tbody>\n",
       "    <tr>\n",
       "      <th>0</th>\n",
       "      <td>12669</td>\n",
       "      <td>9656</td>\n",
       "      <td>7561</td>\n",
       "      <td>214</td>\n",
       "      <td>2674</td>\n",
       "      <td>1338</td>\n",
       "      <td>0.0</td>\n",
       "      <td>1.0</td>\n",
       "      <td>0.0</td>\n",
       "      <td>0.0</td>\n",
       "      <td>1.0</td>\n",
       "    </tr>\n",
       "    <tr>\n",
       "      <th>1</th>\n",
       "      <td>7057</td>\n",
       "      <td>9810</td>\n",
       "      <td>9568</td>\n",
       "      <td>1762</td>\n",
       "      <td>3293</td>\n",
       "      <td>1776</td>\n",
       "      <td>0.0</td>\n",
       "      <td>1.0</td>\n",
       "      <td>0.0</td>\n",
       "      <td>0.0</td>\n",
       "      <td>1.0</td>\n",
       "    </tr>\n",
       "    <tr>\n",
       "      <th>2</th>\n",
       "      <td>6353</td>\n",
       "      <td>8808</td>\n",
       "      <td>7684</td>\n",
       "      <td>2405</td>\n",
       "      <td>3516</td>\n",
       "      <td>7844</td>\n",
       "      <td>0.0</td>\n",
       "      <td>1.0</td>\n",
       "      <td>0.0</td>\n",
       "      <td>0.0</td>\n",
       "      <td>1.0</td>\n",
       "    </tr>\n",
       "    <tr>\n",
       "      <th>3</th>\n",
       "      <td>13265</td>\n",
       "      <td>1196</td>\n",
       "      <td>4221</td>\n",
       "      <td>6404</td>\n",
       "      <td>507</td>\n",
       "      <td>1788</td>\n",
       "      <td>1.0</td>\n",
       "      <td>0.0</td>\n",
       "      <td>0.0</td>\n",
       "      <td>0.0</td>\n",
       "      <td>1.0</td>\n",
       "    </tr>\n",
       "    <tr>\n",
       "      <th>4</th>\n",
       "      <td>22615</td>\n",
       "      <td>5410</td>\n",
       "      <td>7198</td>\n",
       "      <td>3915</td>\n",
       "      <td>1777</td>\n",
       "      <td>5185</td>\n",
       "      <td>0.0</td>\n",
       "      <td>1.0</td>\n",
       "      <td>0.0</td>\n",
       "      <td>0.0</td>\n",
       "      <td>1.0</td>\n",
       "    </tr>\n",
       "  </tbody>\n",
       "</table>\n",
       "</div>"
      ],
      "text/plain": [
       "   Fresh  Milk  Grocery  Frozen  Detergents_Paper  Delicassen  Channel_1  \\\n",
       "0  12669  9656     7561     214              2674        1338        0.0   \n",
       "1   7057  9810     9568    1762              3293        1776        0.0   \n",
       "2   6353  8808     7684    2405              3516        7844        0.0   \n",
       "3  13265  1196     4221    6404               507        1788        1.0   \n",
       "4  22615  5410     7198    3915              1777        5185        0.0   \n",
       "\n",
       "   Channel_2  Region_1  Region_2  Region_3  \n",
       "0        1.0       0.0       0.0       1.0  \n",
       "1        1.0       0.0       0.0       1.0  \n",
       "2        1.0       0.0       0.0       1.0  \n",
       "3        0.0       0.0       0.0       1.0  \n",
       "4        1.0       0.0       0.0       1.0  "
      ]
     },
     "execution_count": 6,
     "metadata": {},
     "output_type": "execute_result"
    }
   ],
   "source": [
    "df.head()"
   ]
  },
  {
   "cell_type": "markdown",
   "id": "47ac8201",
   "metadata": {},
   "source": [
    "Nedostajuce vrednosti i duplikati:"
   ]
  },
  {
   "cell_type": "code",
   "execution_count": 7,
   "id": "7eadf88e",
   "metadata": {},
   "outputs": [
    {
     "data": {
      "text/plain": [
       "Fresh               0\n",
       "Milk                0\n",
       "Grocery             0\n",
       "Frozen              0\n",
       "Detergents_Paper    0\n",
       "Delicassen          0\n",
       "Channel_1           0\n",
       "Channel_2           0\n",
       "Region_1            0\n",
       "Region_2            0\n",
       "Region_3            0\n",
       "dtype: int64"
      ]
     },
     "execution_count": 7,
     "metadata": {},
     "output_type": "execute_result"
    }
   ],
   "source": [
    "df.isnull().sum()"
   ]
  },
  {
   "cell_type": "code",
   "execution_count": 8,
   "id": "3ca067b6",
   "metadata": {},
   "outputs": [
    {
     "data": {
      "text/plain": [
       "(440, 11)"
      ]
     },
     "execution_count": 8,
     "metadata": {},
     "output_type": "execute_result"
    }
   ],
   "source": [
    "df.shape"
   ]
  },
  {
   "cell_type": "code",
   "execution_count": 9,
   "id": "5942d534",
   "metadata": {},
   "outputs": [
    {
     "data": {
      "text/plain": [
       "(440, 11)"
      ]
     },
     "execution_count": 9,
     "metadata": {},
     "output_type": "execute_result"
    }
   ],
   "source": [
    "df.drop_duplicates().shape"
   ]
  },
  {
   "cell_type": "markdown",
   "id": "d1b62345",
   "metadata": {},
   "source": [
    "Deskriptivna analiza podataka"
   ]
  },
  {
   "cell_type": "code",
   "execution_count": 10,
   "id": "350a83aa",
   "metadata": {},
   "outputs": [
    {
     "data": {
      "text/html": [
       "<div>\n",
       "<style scoped>\n",
       "    .dataframe tbody tr th:only-of-type {\n",
       "        vertical-align: middle;\n",
       "    }\n",
       "\n",
       "    .dataframe tbody tr th {\n",
       "        vertical-align: top;\n",
       "    }\n",
       "\n",
       "    .dataframe thead th {\n",
       "        text-align: right;\n",
       "    }\n",
       "</style>\n",
       "<table border=\"1\" class=\"dataframe\">\n",
       "  <thead>\n",
       "    <tr style=\"text-align: right;\">\n",
       "      <th></th>\n",
       "      <th>Fresh</th>\n",
       "      <th>Milk</th>\n",
       "      <th>Grocery</th>\n",
       "      <th>Frozen</th>\n",
       "      <th>Detergents_Paper</th>\n",
       "      <th>Delicassen</th>\n",
       "      <th>Channel_1</th>\n",
       "      <th>Channel_2</th>\n",
       "      <th>Region_1</th>\n",
       "      <th>Region_2</th>\n",
       "      <th>Region_3</th>\n",
       "    </tr>\n",
       "  </thead>\n",
       "  <tbody>\n",
       "    <tr>\n",
       "      <th>count</th>\n",
       "      <td>440.000000</td>\n",
       "      <td>440.000000</td>\n",
       "      <td>440.000000</td>\n",
       "      <td>440.000000</td>\n",
       "      <td>440.000000</td>\n",
       "      <td>440.000000</td>\n",
       "      <td>440.000000</td>\n",
       "      <td>440.000000</td>\n",
       "      <td>440.0000</td>\n",
       "      <td>440.000000</td>\n",
       "      <td>440.000000</td>\n",
       "    </tr>\n",
       "    <tr>\n",
       "      <th>mean</th>\n",
       "      <td>12000.297727</td>\n",
       "      <td>5796.265909</td>\n",
       "      <td>7951.277273</td>\n",
       "      <td>3071.931818</td>\n",
       "      <td>2881.493182</td>\n",
       "      <td>1524.870455</td>\n",
       "      <td>0.677273</td>\n",
       "      <td>0.322727</td>\n",
       "      <td>0.1750</td>\n",
       "      <td>0.106818</td>\n",
       "      <td>0.718182</td>\n",
       "    </tr>\n",
       "    <tr>\n",
       "      <th>std</th>\n",
       "      <td>12647.328865</td>\n",
       "      <td>7380.377175</td>\n",
       "      <td>9503.162829</td>\n",
       "      <td>4854.673333</td>\n",
       "      <td>4767.854448</td>\n",
       "      <td>2820.105937</td>\n",
       "      <td>0.468052</td>\n",
       "      <td>0.468052</td>\n",
       "      <td>0.3804</td>\n",
       "      <td>0.309234</td>\n",
       "      <td>0.450397</td>\n",
       "    </tr>\n",
       "    <tr>\n",
       "      <th>min</th>\n",
       "      <td>3.000000</td>\n",
       "      <td>55.000000</td>\n",
       "      <td>3.000000</td>\n",
       "      <td>25.000000</td>\n",
       "      <td>3.000000</td>\n",
       "      <td>3.000000</td>\n",
       "      <td>0.000000</td>\n",
       "      <td>0.000000</td>\n",
       "      <td>0.0000</td>\n",
       "      <td>0.000000</td>\n",
       "      <td>0.000000</td>\n",
       "    </tr>\n",
       "    <tr>\n",
       "      <th>25%</th>\n",
       "      <td>3127.750000</td>\n",
       "      <td>1533.000000</td>\n",
       "      <td>2153.000000</td>\n",
       "      <td>742.250000</td>\n",
       "      <td>256.750000</td>\n",
       "      <td>408.250000</td>\n",
       "      <td>0.000000</td>\n",
       "      <td>0.000000</td>\n",
       "      <td>0.0000</td>\n",
       "      <td>0.000000</td>\n",
       "      <td>0.000000</td>\n",
       "    </tr>\n",
       "    <tr>\n",
       "      <th>50%</th>\n",
       "      <td>8504.000000</td>\n",
       "      <td>3627.000000</td>\n",
       "      <td>4755.500000</td>\n",
       "      <td>1526.000000</td>\n",
       "      <td>816.500000</td>\n",
       "      <td>965.500000</td>\n",
       "      <td>1.000000</td>\n",
       "      <td>0.000000</td>\n",
       "      <td>0.0000</td>\n",
       "      <td>0.000000</td>\n",
       "      <td>1.000000</td>\n",
       "    </tr>\n",
       "    <tr>\n",
       "      <th>75%</th>\n",
       "      <td>16933.750000</td>\n",
       "      <td>7190.250000</td>\n",
       "      <td>10655.750000</td>\n",
       "      <td>3554.250000</td>\n",
       "      <td>3922.000000</td>\n",
       "      <td>1820.250000</td>\n",
       "      <td>1.000000</td>\n",
       "      <td>1.000000</td>\n",
       "      <td>0.0000</td>\n",
       "      <td>0.000000</td>\n",
       "      <td>1.000000</td>\n",
       "    </tr>\n",
       "    <tr>\n",
       "      <th>max</th>\n",
       "      <td>112151.000000</td>\n",
       "      <td>73498.000000</td>\n",
       "      <td>92780.000000</td>\n",
       "      <td>60869.000000</td>\n",
       "      <td>40827.000000</td>\n",
       "      <td>47943.000000</td>\n",
       "      <td>1.000000</td>\n",
       "      <td>1.000000</td>\n",
       "      <td>1.0000</td>\n",
       "      <td>1.000000</td>\n",
       "      <td>1.000000</td>\n",
       "    </tr>\n",
       "  </tbody>\n",
       "</table>\n",
       "</div>"
      ],
      "text/plain": [
       "               Fresh          Milk       Grocery        Frozen  \\\n",
       "count     440.000000    440.000000    440.000000    440.000000   \n",
       "mean    12000.297727   5796.265909   7951.277273   3071.931818   \n",
       "std     12647.328865   7380.377175   9503.162829   4854.673333   \n",
       "min         3.000000     55.000000      3.000000     25.000000   \n",
       "25%      3127.750000   1533.000000   2153.000000    742.250000   \n",
       "50%      8504.000000   3627.000000   4755.500000   1526.000000   \n",
       "75%     16933.750000   7190.250000  10655.750000   3554.250000   \n",
       "max    112151.000000  73498.000000  92780.000000  60869.000000   \n",
       "\n",
       "       Detergents_Paper    Delicassen   Channel_1   Channel_2  Region_1  \\\n",
       "count        440.000000    440.000000  440.000000  440.000000  440.0000   \n",
       "mean        2881.493182   1524.870455    0.677273    0.322727    0.1750   \n",
       "std         4767.854448   2820.105937    0.468052    0.468052    0.3804   \n",
       "min            3.000000      3.000000    0.000000    0.000000    0.0000   \n",
       "25%          256.750000    408.250000    0.000000    0.000000    0.0000   \n",
       "50%          816.500000    965.500000    1.000000    0.000000    0.0000   \n",
       "75%         3922.000000   1820.250000    1.000000    1.000000    0.0000   \n",
       "max        40827.000000  47943.000000    1.000000    1.000000    1.0000   \n",
       "\n",
       "         Region_2    Region_3  \n",
       "count  440.000000  440.000000  \n",
       "mean     0.106818    0.718182  \n",
       "std      0.309234    0.450397  \n",
       "min      0.000000    0.000000  \n",
       "25%      0.000000    0.000000  \n",
       "50%      0.000000    1.000000  \n",
       "75%      0.000000    1.000000  \n",
       "max      1.000000    1.000000  "
      ]
     },
     "execution_count": 10,
     "metadata": {},
     "output_type": "execute_result"
    }
   ],
   "source": [
    "df.describe()"
   ]
  },
  {
   "cell_type": "markdown",
   "id": "d4f9f0b6",
   "metadata": {},
   "source": [
    "Normalizacija podataka:"
   ]
  },
  {
   "cell_type": "code",
   "execution_count": 11,
   "id": "5da90028",
   "metadata": {},
   "outputs": [
    {
     "data": {
      "text/html": [
       "<div>\n",
       "<style scoped>\n",
       "    .dataframe tbody tr th:only-of-type {\n",
       "        vertical-align: middle;\n",
       "    }\n",
       "\n",
       "    .dataframe tbody tr th {\n",
       "        vertical-align: top;\n",
       "    }\n",
       "\n",
       "    .dataframe thead th {\n",
       "        text-align: right;\n",
       "    }\n",
       "</style>\n",
       "<table border=\"1\" class=\"dataframe\">\n",
       "  <thead>\n",
       "    <tr style=\"text-align: right;\">\n",
       "      <th></th>\n",
       "      <th>Fresh</th>\n",
       "      <th>Milk</th>\n",
       "      <th>Grocery</th>\n",
       "      <th>Frozen</th>\n",
       "      <th>Detergents_Paper</th>\n",
       "      <th>Delicassen</th>\n",
       "      <th>Channel_1</th>\n",
       "      <th>Channel_2</th>\n",
       "      <th>Region_1</th>\n",
       "      <th>Region_2</th>\n",
       "      <th>Region_3</th>\n",
       "    </tr>\n",
       "  </thead>\n",
       "  <tbody>\n",
       "    <tr>\n",
       "      <th>0</th>\n",
       "      <td>0.112940</td>\n",
       "      <td>0.130727</td>\n",
       "      <td>0.081464</td>\n",
       "      <td>0.003106</td>\n",
       "      <td>0.065427</td>\n",
       "      <td>0.027847</td>\n",
       "      <td>0.0</td>\n",
       "      <td>1.0</td>\n",
       "      <td>0.0</td>\n",
       "      <td>0.0</td>\n",
       "      <td>1.0</td>\n",
       "    </tr>\n",
       "    <tr>\n",
       "      <th>1</th>\n",
       "      <td>0.062899</td>\n",
       "      <td>0.132824</td>\n",
       "      <td>0.103097</td>\n",
       "      <td>0.028548</td>\n",
       "      <td>0.080590</td>\n",
       "      <td>0.036984</td>\n",
       "      <td>0.0</td>\n",
       "      <td>1.0</td>\n",
       "      <td>0.0</td>\n",
       "      <td>0.0</td>\n",
       "      <td>1.0</td>\n",
       "    </tr>\n",
       "    <tr>\n",
       "      <th>2</th>\n",
       "      <td>0.056622</td>\n",
       "      <td>0.119181</td>\n",
       "      <td>0.082790</td>\n",
       "      <td>0.039116</td>\n",
       "      <td>0.086052</td>\n",
       "      <td>0.163559</td>\n",
       "      <td>0.0</td>\n",
       "      <td>1.0</td>\n",
       "      <td>0.0</td>\n",
       "      <td>0.0</td>\n",
       "      <td>1.0</td>\n",
       "    </tr>\n",
       "    <tr>\n",
       "      <th>3</th>\n",
       "      <td>0.118254</td>\n",
       "      <td>0.015536</td>\n",
       "      <td>0.045464</td>\n",
       "      <td>0.104842</td>\n",
       "      <td>0.012346</td>\n",
       "      <td>0.037234</td>\n",
       "      <td>1.0</td>\n",
       "      <td>0.0</td>\n",
       "      <td>0.0</td>\n",
       "      <td>0.0</td>\n",
       "      <td>1.0</td>\n",
       "    </tr>\n",
       "    <tr>\n",
       "      <th>4</th>\n",
       "      <td>0.201626</td>\n",
       "      <td>0.072914</td>\n",
       "      <td>0.077552</td>\n",
       "      <td>0.063934</td>\n",
       "      <td>0.043455</td>\n",
       "      <td>0.108093</td>\n",
       "      <td>0.0</td>\n",
       "      <td>1.0</td>\n",
       "      <td>0.0</td>\n",
       "      <td>0.0</td>\n",
       "      <td>1.0</td>\n",
       "    </tr>\n",
       "  </tbody>\n",
       "</table>\n",
       "</div>"
      ],
      "text/plain": [
       "      Fresh      Milk   Grocery    Frozen  Detergents_Paper  Delicassen  \\\n",
       "0  0.112940  0.130727  0.081464  0.003106          0.065427    0.027847   \n",
       "1  0.062899  0.132824  0.103097  0.028548          0.080590    0.036984   \n",
       "2  0.056622  0.119181  0.082790  0.039116          0.086052    0.163559   \n",
       "3  0.118254  0.015536  0.045464  0.104842          0.012346    0.037234   \n",
       "4  0.201626  0.072914  0.077552  0.063934          0.043455    0.108093   \n",
       "\n",
       "   Channel_1  Channel_2  Region_1  Region_2  Region_3  \n",
       "0        0.0        1.0       0.0       0.0       1.0  \n",
       "1        0.0        1.0       0.0       0.0       1.0  \n",
       "2        0.0        1.0       0.0       0.0       1.0  \n",
       "3        1.0        0.0       0.0       0.0       1.0  \n",
       "4        0.0        1.0       0.0       0.0       1.0  "
      ]
     },
     "execution_count": 11,
     "metadata": {},
     "output_type": "execute_result"
    }
   ],
   "source": [
    "minmax_scale = preprocessing.MinMaxScaler(feature_range=(0, 1))\n",
    "scaled_feature = minmax_scale.fit_transform(df)\n",
    "scaled_feature=pd.DataFrame(data=scaled_feature, columns=df.columns)\n",
    "scaled_feature.head()"
   ]
  },
  {
   "cell_type": "markdown",
   "id": "176ceeda",
   "metadata": {},
   "source": [
    "## Implementacija K-means algoritma:"
   ]
  },
  {
   "cell_type": "code",
   "execution_count": 12,
   "id": "a67310b2",
   "metadata": {},
   "outputs": [],
   "source": [
    "def euclidean(point, data):\n",
    "    sum=0\n",
    "    for i in range(len(point)):\n",
    "        sum+=point[i]-data[i]\n",
    "        sum=sum**2\n",
    "    return np.sqrt(sum)  "
   ]
  },
  {
   "cell_type": "code",
   "execution_count": 16,
   "id": "0ba67327",
   "metadata": {},
   "outputs": [],
   "source": [
    "def kmeans(data,n_clusters, no_of_iterations):\n",
    "    idx = np.random.choice(len(data), n_clusters, replace=False)\n",
    "    #Biranje centroida\n",
    "    centroids = data[idx, :]   \n",
    "    #nalazenje distance izmedju centroida i svih tacaka\n",
    "    distances = cdist(data, centroids ,'euclidean') \n",
    "    #najblizi centroid\n",
    "    points = np.array([np.argmin(i) for i in distances])\n",
    "    for _ in range(no_of_iterations): \n",
    "        centroids = []\n",
    "        for idx in range(n_clusters):\n",
    "            #racuna se novi centroid kao srednja vredonst tacaka koje su mu dodeljene\n",
    "            current_cent = data[points==idx].mean(axis=0) \n",
    "            centroids.append(current_cent)\n",
    "        centroids = np.vstack(centroids)        \n",
    "        distances = cdist(data, centroids ,'euclidean')\n",
    "        points = np.array([np.argmin(i) for i in distances])        \n",
    "    return points "
   ]
  },
  {
   "cell_type": "code",
   "execution_count": 17,
   "id": "6acc4c93",
   "metadata": {},
   "outputs": [],
   "source": [
    "label = kmeans(scaled_feature.to_numpy(),6,1000)"
   ]
  },
  {
   "cell_type": "code",
   "execution_count": 19,
   "id": "e79765bd",
   "metadata": {},
   "outputs": [
    {
     "data": {
      "text/html": [
       "<div>\n",
       "<style scoped>\n",
       "    .dataframe tbody tr th:only-of-type {\n",
       "        vertical-align: middle;\n",
       "    }\n",
       "\n",
       "    .dataframe tbody tr th {\n",
       "        vertical-align: top;\n",
       "    }\n",
       "\n",
       "    .dataframe thead th {\n",
       "        text-align: right;\n",
       "    }\n",
       "</style>\n",
       "<table border=\"1\" class=\"dataframe\">\n",
       "  <thead>\n",
       "    <tr style=\"text-align: right;\">\n",
       "      <th></th>\n",
       "      <th>Fresh</th>\n",
       "      <th>Milk</th>\n",
       "      <th>Grocery</th>\n",
       "      <th>Frozen</th>\n",
       "      <th>Detergents_Paper</th>\n",
       "      <th>Delicassen</th>\n",
       "      <th>Channel_1</th>\n",
       "      <th>Channel_2</th>\n",
       "      <th>Region_1</th>\n",
       "      <th>Region_2</th>\n",
       "      <th>Region_3</th>\n",
       "      <th>Cluster</th>\n",
       "    </tr>\n",
       "  </thead>\n",
       "  <tbody>\n",
       "    <tr>\n",
       "      <th>0</th>\n",
       "      <td>0.112940</td>\n",
       "      <td>0.130727</td>\n",
       "      <td>0.081464</td>\n",
       "      <td>0.003106</td>\n",
       "      <td>0.065427</td>\n",
       "      <td>0.027847</td>\n",
       "      <td>0.0</td>\n",
       "      <td>1.0</td>\n",
       "      <td>0.0</td>\n",
       "      <td>0.0</td>\n",
       "      <td>1.0</td>\n",
       "      <td>5</td>\n",
       "    </tr>\n",
       "    <tr>\n",
       "      <th>1</th>\n",
       "      <td>0.062899</td>\n",
       "      <td>0.132824</td>\n",
       "      <td>0.103097</td>\n",
       "      <td>0.028548</td>\n",
       "      <td>0.080590</td>\n",
       "      <td>0.036984</td>\n",
       "      <td>0.0</td>\n",
       "      <td>1.0</td>\n",
       "      <td>0.0</td>\n",
       "      <td>0.0</td>\n",
       "      <td>1.0</td>\n",
       "      <td>5</td>\n",
       "    </tr>\n",
       "    <tr>\n",
       "      <th>2</th>\n",
       "      <td>0.056622</td>\n",
       "      <td>0.119181</td>\n",
       "      <td>0.082790</td>\n",
       "      <td>0.039116</td>\n",
       "      <td>0.086052</td>\n",
       "      <td>0.163559</td>\n",
       "      <td>0.0</td>\n",
       "      <td>1.0</td>\n",
       "      <td>0.0</td>\n",
       "      <td>0.0</td>\n",
       "      <td>1.0</td>\n",
       "      <td>5</td>\n",
       "    </tr>\n",
       "    <tr>\n",
       "      <th>3</th>\n",
       "      <td>0.118254</td>\n",
       "      <td>0.015536</td>\n",
       "      <td>0.045464</td>\n",
       "      <td>0.104842</td>\n",
       "      <td>0.012346</td>\n",
       "      <td>0.037234</td>\n",
       "      <td>1.0</td>\n",
       "      <td>0.0</td>\n",
       "      <td>0.0</td>\n",
       "      <td>0.0</td>\n",
       "      <td>1.0</td>\n",
       "      <td>3</td>\n",
       "    </tr>\n",
       "    <tr>\n",
       "      <th>4</th>\n",
       "      <td>0.201626</td>\n",
       "      <td>0.072914</td>\n",
       "      <td>0.077552</td>\n",
       "      <td>0.063934</td>\n",
       "      <td>0.043455</td>\n",
       "      <td>0.108093</td>\n",
       "      <td>0.0</td>\n",
       "      <td>1.0</td>\n",
       "      <td>0.0</td>\n",
       "      <td>0.0</td>\n",
       "      <td>1.0</td>\n",
       "      <td>5</td>\n",
       "    </tr>\n",
       "  </tbody>\n",
       "</table>\n",
       "</div>"
      ],
      "text/plain": [
       "      Fresh      Milk   Grocery    Frozen  Detergents_Paper  Delicassen  \\\n",
       "0  0.112940  0.130727  0.081464  0.003106          0.065427    0.027847   \n",
       "1  0.062899  0.132824  0.103097  0.028548          0.080590    0.036984   \n",
       "2  0.056622  0.119181  0.082790  0.039116          0.086052    0.163559   \n",
       "3  0.118254  0.015536  0.045464  0.104842          0.012346    0.037234   \n",
       "4  0.201626  0.072914  0.077552  0.063934          0.043455    0.108093   \n",
       "\n",
       "   Channel_1  Channel_2  Region_1  Region_2  Region_3  Cluster  \n",
       "0        0.0        1.0       0.0       0.0       1.0        5  \n",
       "1        0.0        1.0       0.0       0.0       1.0        5  \n",
       "2        0.0        1.0       0.0       0.0       1.0        5  \n",
       "3        1.0        0.0       0.0       0.0       1.0        3  \n",
       "4        0.0        1.0       0.0       0.0       1.0        5  "
      ]
     },
     "execution_count": 19,
     "metadata": {},
     "output_type": "execute_result"
    }
   ],
   "source": [
    "scaled_feature['Cluster']=label\n",
    "scaled_feature.head()"
   ]
  },
  {
   "cell_type": "code",
   "execution_count": 20,
   "id": "ba5bccf3",
   "metadata": {},
   "outputs": [
    {
     "data": {
      "text/html": [
       "        <script type=\"text/javascript\">\n",
       "        window.PlotlyConfig = {MathJaxConfig: 'local'};\n",
       "        if (window.MathJax && window.MathJax.Hub && window.MathJax.Hub.Config) {window.MathJax.Hub.Config({SVG: {font: \"STIX-Web\"}});}\n",
       "        if (typeof require !== 'undefined') {\n",
       "        require.undef(\"plotly\");\n",
       "        requirejs.config({\n",
       "            paths: {\n",
       "                'plotly': ['https://cdn.plot.ly/plotly-2.12.1.min']\n",
       "            }\n",
       "        });\n",
       "        require(['plotly'], function(Plotly) {\n",
       "            window._Plotly = Plotly;\n",
       "        });\n",
       "        }\n",
       "        </script>\n",
       "        "
      ]
     },
     "metadata": {},
     "output_type": "display_data"
    },
    {
     "data": {
      "application/vnd.plotly.v1+json": {
       "config": {
        "linkText": "Export to plot.ly",
        "plotlyServerURL": "https://plot.ly",
        "showLink": false
       },
       "data": [
        {
         "marker": {
          "color": "rgba(255, 128, 255, 0.8)"
         },
         "mode": "markers",
         "name": "Cluster 0",
         "type": "scatter3d",
         "x": [
          3.2491336748542143,
          3.2479414101087833,
          3.248752797649024,
          3.2461325213720955,
          3.2484125088680345,
          3.2483438798185897,
          3.2492935029803016,
          3.245745834291439,
          3.2494934680932572,
          3.249073856589565,
          3.2446177284162356,
          3.2407470185738854,
          3.2495521701858867,
          3.2494308354051853,
          3.2496813551605612,
          3.243464316771156,
          3.2493062717115158,
          3.249340425895405,
          3.2480147575660947,
          3.2488982795773436,
          3.2467424413656594,
          3.2488736721610927,
          3.2457735774556107,
          3.2491494418512876,
          3.2476345602962664,
          3.2488222573909065,
          3.2470515325659735,
          3.2489499689931294,
          3.249635490542782,
          3.249616085635705,
          3.2498501049657262,
          3.248743016002791,
          3.249462602609059,
          3.24938606113563,
          3.247130331252474,
          3.2440420154599523,
          3.248850197527024,
          3.249983510333014,
          3.248198291693728,
          3.2485704939048063,
          3.248828901828093,
          3.248819051498017,
          3.2450169181159945,
          3.24459210581167,
          3.2504596097135563,
          3.247542931335781,
          3.2473930010842045,
          3.250259492400312,
          3.2485357800804824,
          3.24795316620641,
          3.249865570726641,
          3.2495617904223564,
          3.246607283962818,
          3.2421290165646224,
          3.2493367724969793,
          3.249798206609067,
          3.249604038158008,
          3.248202511620969,
          3.246267092017745
         ],
         "y": [
          0.36099132101472736,
          0.36830821982820544,
          0.3650601038049797,
          0.37390807750641414,
          0.3678243930857447,
          0.36776469341694684,
          0.36323844168500885,
          0.37934980598013784,
          0.36080366650642043,
          0.3640459816299665,
          0.3838940197769618,
          0.4005132781647088,
          0.36061871119080585,
          0.36294232899618994,
          0.3604875489792436,
          0.3884654839401508,
          0.36345240001354917,
          0.36288535688047907,
          0.3678254956564363,
          0.36518421654895145,
          0.37546139325034317,
          0.3648382123042447,
          0.37855328296541957,
          0.3612746279872483,
          0.3708223075953033,
          0.36405029968947883,
          0.37329050458047464,
          0.3644386598287441,
          0.36013011656762783,
          0.3617214128007035,
          0.35570727790371337,
          0.36363942627206625,
          0.3601435796304306,
          0.36142514860938274,
          0.3719240487532227,
          0.3857483958298117,
          0.3647762893690178,
          0.359387903358917,
          0.3665625207203412,
          0.3661945055372857,
          0.36557781506152603,
          0.36527929048405444,
          0.37804151435584554,
          0.3823429027373375,
          0.3550722612602617,
          0.3698851704418098,
          0.3716668878040431,
          0.35282038823050044,
          0.3604077399325303,
          0.36848538265956643,
          0.3606798265896002,
          0.35993522896877445,
          0.3756617206945821,
          0.3930776258950499,
          0.3613280588374032,
          0.3600181387300333,
          0.36219561295711783,
          0.36824881008520866,
          0.37647654410615927
         ],
         "z": [
          -0.12388797577452404,
          -0.12594326977326176,
          -0.1253554742877955,
          -0.13340941648414445,
          -0.12442523870118542,
          -0.12474220178914931,
          -0.12373412704835858,
          -0.12901385294699438,
          -0.12521120101246455,
          -0.12444904354514177,
          -0.13181169787998387,
          -0.13867570330315426,
          -0.12452566623961787,
          -0.12275505090139419,
          -0.12395628857542233,
          -0.13401143006075872,
          -0.12184553915047075,
          -0.12383862420596267,
          -0.1270520841839622,
          -0.12412313222279855,
          -0.12698712841312015,
          -0.12361067308509584,
          -0.13080895076466928,
          -0.12646350119316035,
          -0.12652172194617756,
          -0.1254920330565358,
          -0.12783094215844773,
          -0.12406237040235722,
          -0.12451383255080042,
          -0.12321104232526107,
          -0.12704045923016977,
          -0.12452756613904667,
          -0.12553684096144765,
          -0.12410955620224244,
          -0.12869962522007597,
          -0.13342102288018756,
          -0.12488981434000918,
          -0.12315120058064873,
          -0.12760163490849727,
          -0.1242288707133906,
          -0.1242350230481358,
          -0.12316259006726757,
          -0.13448550087398273,
          -0.13499359288064983,
          -0.12408652342901351,
          -0.12794870592589816,
          -0.12612502857597754,
          -0.12781318992500576,
          -0.130397662073065,
          -0.12723207399595618,
          -0.12150685268526715,
          -0.12535661265933337,
          -0.1263738783166569,
          -0.1379853252860271,
          -0.12529693266413613,
          -0.12334506933543457,
          -0.12184223051411208,
          -0.1261559098770295,
          -0.12962517803841495
         ]
        },
        {
         "marker": {
          "color": "rgba(255, 128, 2, 0.8)"
         },
         "mode": "markers",
         "name": "Cluster 1",
         "type": "scatter3d",
         "x": [
          1.9400613899046077
         ],
         "y": [
          -0.36389449110778666
         ],
         "z": [
          -0.3959658466579436
         ]
        },
        {
         "marker": {
          "color": "rgba(0, 255, 200, 0.8)"
         },
         "mode": "markers",
         "name": "Cluster 2",
         "type": "scatter3d",
         "x": [
          1.0391892037640493,
          1.032174523705551,
          1.0291864062253682,
          1.032462919606959,
          1.040240038872024,
          1.0321490926308146,
          1.0204231886610493,
          1.0381515860895296,
          1.0263039551891104,
          1.0376240015304055,
          1.0436384506920064,
          1.041410321238842,
          1.0432661584284697,
          1.0359383825932444,
          1.0232272651486085,
          1.0364600827657344,
          1.0357053007051216,
          1.0360918444849667,
          0.8521414883911845,
          0.8578651383645043,
          0.8564595007927395,
          0.8549527178345433,
          0.856797300963813,
          0.8484764303576725,
          0.8536993988815841,
          0.8509875193131713,
          0.8467004475841651,
          0.8535708175439276,
          0.8490101224499953,
          0.8493417544232716,
          0.8458711537718633,
          0.8524668249551298,
          0.8446822776301279,
          0.8464041989452427,
          0.8232646994509755,
          0.8608815225059001,
          0.8553179946773531
         ],
         "y": [
          1.4156811012151886,
          1.4461130246612317,
          1.459328492685866,
          1.4450091499565314,
          1.4115328904367161,
          1.4463547417914726,
          1.4958790059933171,
          1.420392571115045,
          1.4713993069536886,
          1.4227068303871715,
          1.3964098340239297,
          1.4036486085683268,
          1.3968862953083527,
          1.43022809909645,
          1.4848928866193172,
          1.4275816408911168,
          1.4306472652594344,
          1.4278650479801696,
          1.2649972083461993,
          1.2399493371103454,
          1.2460827545017072,
          1.2527180512488065,
          1.2432790585778877,
          1.2807622114602573,
          1.2588000602207643,
          1.2710635584041798,
          1.2896764193720807,
          1.2589998105084437,
          1.2781476889173258,
          1.2770897794121652,
          1.294080684659524,
          1.2634461865690894,
          1.2965390329872069,
          1.2888363301317807,
          1.392545188497048,
          1.2259204027861597,
          1.2484093844601067
         ],
         "z": [
          -0.24902369044341155,
          -0.2599133985948778,
          -0.26513382215686776,
          -0.25969366025454865,
          -0.2461500837044636,
          -0.2610651196176697,
          -0.282152317597979,
          -0.25031503211978523,
          -0.27022266366659475,
          -0.25226720082297616,
          -0.24014445559867914,
          -0.24727479473758748,
          -0.24188723318750108,
          -0.25423462106176675,
          -0.2761614486365816,
          -0.2537365058839285,
          -0.2544393201675941,
          -0.2545791572194768,
          0.6606412289228468,
          0.6709074261238095,
          0.6686777651635016,
          0.6660262528501347,
          0.6669998121484336,
          0.655004863335342,
          0.6643484103713587,
          0.660935555226962,
          0.6535284348416479,
          0.6627810980081174,
          0.6554812320103304,
          0.6546277224619367,
          0.6535963541381811,
          0.659716386104708,
          0.6454022150218407,
          0.6506135249183973,
          0.6190391111143589,
          0.6768447896469608,
          0.6636855404730431
         ]
        },
        {
         "marker": {
          "color": "rgba(255, 255, 0, 0.8)"
         },
         "mode": "markers",
         "name": "Cluster 3",
         "type": "scatter3d",
         "x": [
          0.0742753060053255,
          0.07190451508137165,
          0.07354159525858997,
          0.07284547533668374,
          0.07105750674107497,
          0.07439154521205348,
          0.07389764764761225,
          0.07439766981088951,
          0.0744197966560745,
          0.07480700140052202,
          0.07109476462534807,
          0.07295120824170148,
          0.07414541634236488,
          0.0735224269479288,
          0.07365533107629718,
          0.07335423787287408,
          0.07718462878455154,
          0.07374594414070096,
          0.07219038112337642,
          0.0742641773523077,
          0.07163593714461154,
          0.07510444575445799,
          0.07200781447027368,
          0.0744076099514671,
          0.07034075520433916,
          0.0735421754155629,
          0.07085384766934605,
          0.07244552061718675,
          0.07388532969407402,
          0.07502482263034596,
          0.06840389449495574,
          0.07323729460408318,
          0.07562067733215731,
          0.07288990391113326,
          0.0744514537313106,
          0.07270073456625813,
          0.07386037487858085,
          0.07468026356179157,
          0.07295748594712731,
          0.07473576902394591,
          0.0736849986305205,
          0.07492033632910897,
          0.0744336632648751,
          0.07684728400278787,
          0.07266212376689367,
          0.07461324251417585,
          0.07461698455750883,
          0.07457053060755776,
          0.07473801093677608,
          0.07333491089144892,
          0.07422089336900867,
          0.07454470000960584,
          0.07475289013597639,
          0.07434305427398089,
          0.0748827537892155,
          0.07439870859197051,
          0.07384842053152516,
          0.07295447564219323,
          0.07477480891824774,
          0.07425752903568009,
          0.07447060047031723,
          0.07394308683732351,
          0.07524948316923699,
          0.07518473557834511,
          0.07618902635586088,
          0.07518333418414982,
          0.07148845123155013,
          0.07568694140245363,
          0.07464070647815949,
          0.07462551825963425,
          0.07384247390240944,
          0.07450150281488689,
          0.07418137128713183,
          0.07412534722677086,
          0.07056065158695567,
          0.07100149885695992,
          0.07308709349408722,
          0.07287593956838997,
          0.07251173233017258,
          0.07196001750761698,
          0.07304829775821889,
          0.07502348535220969,
          0.07396716096523846,
          0.07418601283047412,
          0.07328501336673507,
          0.0748980715655983,
          0.07525704360571342,
          0.07454748931971834,
          0.07353937696936105,
          0.07451884950655642,
          0.07230932495126983,
          0.07473800292646461,
          0.07439628822005459,
          0.07510028177155702,
          0.07413178553604025,
          0.07255378515075535,
          0.07470316055446471,
          0.07447541255454238,
          0.07062248184093663,
          0.07345101513421812,
          0.07329183558549282,
          0.07279813696935485,
          0.07261845419421281,
          0.07348441774930295,
          0.07120777427611405,
          0.06721466117439757,
          0.06682357217546651,
          0.0733490217017025,
          0.07360829164705433,
          0.07430772510315595,
          0.06956881951421418,
          0.07417613537276041,
          0.07494092075106408,
          0.07409066105801412,
          0.07399992661292668,
          0.07359303243580859,
          0.07540934611301271,
          0.0736442464705307,
          0.07440723276018797,
          0.07346122267400451,
          0.07579239847409314,
          0.07444691913895005,
          0.0737126054017193,
          0.07469476077300272,
          0.07515930367074805,
          0.0738590566331333,
          0.0751599164514137,
          0.0737187752271869,
          0.07471148351476437,
          0.07476397791581423,
          0.07627727291407235,
          0.07329874180709114,
          0.0736341782418096,
          0.07309291074242177,
          0.06968060441022303,
          0.07428787117080263,
          0.07027652649720062,
          0.07337230463863884,
          0.0742499933528349,
          0.07422170575221729,
          0.07291515260432148,
          0.07407902789038225,
          0.07576697184321424,
          0.07068065132819636,
          0.07298260843828167,
          0.07438944769843993,
          0.07461632151901866,
          0.07389230359492292,
          0.07299550652127682,
          0.074126915907734,
          0.07424539644764394,
          0.07455209523746105,
          0.0749056575425846,
          0.07482579344688262,
          0.07493123833815903,
          0.0735305560213633,
          0.07408924223956696,
          0.07419288550884941,
          0.07496933516152857,
          0.07373865181976358,
          0.07510830242091518,
          0.07476531948873968,
          0.07181970296323542,
          0.07387123532808791,
          0.06726574669623804,
          0.07472598772182526,
          0.07336072761874332,
          0.07480288330679863,
          0.07470108516848735,
          0.07457938154652982,
          0.074598723862377,
          0.07376294991518058,
          0.07308342964909459,
          0.07385732806695888,
          0.07434850429479933,
          0.07431900531152204,
          0.07503118394127359,
          0.0752302443242491,
          0.07464644137785174,
          0.07464861970308818,
          0.07570999180842362,
          0.07363319114605811,
          0.07205126149996706,
          0.0735330068871214,
          0.07436432228820583,
          0.07370206532008022,
          0.07190021147693311,
          0.07259568952838483,
          0.07335830314514685,
          0.06959470657792019,
          0.0733668081796916,
          0.07362473949212624,
          0.06940358381744863,
          0.07294836758601593,
          0.06704081112738408,
          0.0740435784806987,
          0.07525987722047105,
          0.0674994560633809,
          0.07220249170329188,
          0.07223516006157589,
          0.07384099544010897,
          0.07021791231649045,
          0.07308600568541582,
          0.07351391026886776,
          0.07373493247604337,
          0.07150023624546152,
          0.07073753421010685,
          0.07603125276226885,
          0.07419299040381862,
          0.07368505270739906
         ],
         "y": [
          -0.5713274268180827,
          -0.5603398319161533,
          -0.567865921102649,
          -0.5645954675803521,
          -0.5568142919890141,
          -0.570895197560806,
          -0.5716496458734107,
          -0.5715137036884232,
          -0.5722453574748232,
          -0.5774335116408772,
          -0.5584843754655522,
          -0.564480472804182,
          -0.5719003639581919,
          -0.5704380045891241,
          -0.5673309243559874,
          -0.5696925453487357,
          -0.5891063146497518,
          -0.5703750632754966,
          -0.5630246878839079,
          -0.5703894708804149,
          -0.558924199071672,
          -0.5767787942188792,
          -0.5606097992401478,
          -0.5721370506378473,
          -0.5535553318833986,
          -0.5670414021367037,
          -0.5547430811428854,
          -0.5623427114698911,
          -0.5691732621862553,
          -0.5749634690261972,
          -0.5464541867310132,
          -0.5657351601979514,
          -0.5780536664258575,
          -0.563922891815263,
          -0.5718698820307883,
          -0.5632073791640423,
          -0.5688474419919661,
          -0.5740967773937031,
          -0.5694722093947716,
          -0.572572358410369,
          -0.5704786159404884,
          -0.5739333177174759,
          -0.5719163895845195,
          -0.581557362313529,
          -0.5630331621787024,
          -0.5712523015007198,
          -0.5712739151211425,
          -0.5722136266275599,
          -0.5785007085595663,
          -0.5674024389092823,
          -0.5715627813465674,
          -0.5724244277325586,
          -0.5740898821770358,
          -0.5718360650834395,
          -0.5746465883728035,
          -0.5716756754054018,
          -0.569431367794792,
          -0.5651548648303742,
          -0.574373399564246,
          -0.5707358866816545,
          -0.5727929026063105,
          -0.5689172653253074,
          -0.5754392730311737,
          -0.5781526102821658,
          -0.5873983338783616,
          -0.5759519901050366,
          -0.5581268086988391,
          -0.581125149303926,
          -0.5721388584160836,
          -0.5715359645624984,
          -0.5697615605935603,
          -0.5719388219096625,
          -0.5703866438703371,
          -0.5699561543781789,
          -0.5544325064353639,
          -0.5564964711605587,
          -0.5665955003295814,
          -0.5646003931716853,
          -0.5645318647790346,
          -0.5643497785510811,
          -0.5695882098281106,
          -0.5741164897361796,
          -0.5709397615385507,
          -0.5704486568130913,
          -0.566676464537592,
          -0.5730732721445488,
          -0.5780466385305926,
          -0.5730409395362895,
          -0.5668877570795822,
          -0.5731808991829175,
          -0.562153192730705,
          -0.5718214822565476,
          -0.5724265509882398,
          -0.5748586859136705,
          -0.5711221613104592,
          -0.5626733591734588,
          -0.5723276779509413,
          -0.5713000947149707,
          -0.5541249300863466,
          -0.566313796162387,
          -0.571345958617578,
          -0.5653923596972976,
          -0.5644082797750257,
          -0.5668717372558995,
          -0.5583574856529856,
          -0.5541506962503115,
          -0.537379925555591,
          -0.5658970654615063,
          -0.5681850902227435,
          -0.5700828816308684,
          -0.549738837476995,
          -0.5716095193425547,
          -0.5743473008863161,
          -0.5697247583450581,
          -0.5694933313802982,
          -0.5690692983809793,
          -0.579294584929175,
          -0.567130873467733,
          -0.5704484225604405,
          -0.5698810855740755,
          -0.5769711884684944,
          -0.571937495470297,
          -0.5678886365039525,
          -0.5777195120916119,
          -0.5767165878005514,
          -0.576799244744362,
          -0.5786519295544201,
          -0.56817154525518,
          -0.573457984448588,
          -0.5738720470292493,
          -0.5837477109062132,
          -0.5658852400936668,
          -0.5678854492680406,
          -0.5650388021961839,
          -0.5497217457533797,
          -0.5701926029174629,
          -0.5524176433337,
          -0.5662435039517686,
          -0.570104346617868,
          -0.5696467039704212,
          -0.5657148053256821,
          -0.5689724107742682,
          -0.5789598192614096,
          -0.555067473741422,
          -0.5645705509487443,
          -0.5727785587833073,
          -0.5718063382482463,
          -0.5684536464922216,
          -0.5647644744814725,
          -0.5694096744359632,
          -0.5709058135702296,
          -0.5713590767569279,
          -0.575320283047792,
          -0.5728980434315749,
          -0.5749319101952984,
          -0.5671429273522346,
          -0.569806752223521,
          -0.5701416978145559,
          -0.5777923702785644,
          -0.5680232803190378,
          -0.5768055567654006,
          -0.57407639702111,
          -0.563737290400706,
          -0.568220750198023,
          -0.5421594432426997,
          -0.5731372932978935,
          -0.5660967175053779,
          -0.5746972509121097,
          -0.5728090944982788,
          -0.5722349379871147,
          -0.5714630412569126,
          -0.5680136206892128,
          -0.5649269053475552,
          -0.5710692897726073,
          -0.5716763125477936,
          -0.5710427818674902,
          -0.5743876987938707,
          -0.575220963739946,
          -0.5724964299331767,
          -0.5718705464149182,
          -0.5791838196043861,
          -0.5706642106249126,
          -0.563945258261259,
          -0.568888182461683,
          -0.5709363123048605,
          -0.5703891690310743,
          -0.5605294487387996,
          -0.5632365673525962,
          -0.5662000743475655,
          -0.5496162235378369,
          -0.5662592587322535,
          -0.5675644353803236,
          -0.5493960643339982,
          -0.5651306600302566,
          -0.5387018569145869,
          -0.5720700495947514,
          -0.5751742590893356,
          -0.5421689221665625,
          -0.5652309222129729,
          -0.5615682044560313,
          -0.5690967960894081,
          -0.5531689807658575,
          -0.5655440383286682,
          -0.5690891213072498,
          -0.5677629328304937,
          -0.5599065923010119,
          -0.5588359542255535,
          -0.5822018090905449,
          -0.5707728517464852,
          -0.5676243468831061
         ],
         "z": [
          -0.07631611323567833,
          -0.08099931754677007,
          -0.07836844390506463,
          -0.08104128889930509,
          -0.08199999086575534,
          -0.07579020728681342,
          -0.0788131620152767,
          -0.07638426173729565,
          -0.07743020717256738,
          -0.08018024745645577,
          -0.08385043979366238,
          -0.07889733372569428,
          -0.07879936115416657,
          -0.07994474923116687,
          -0.07747413625969442,
          -0.08220794163850018,
          -0.07581959615029019,
          -0.07917615150706186,
          -0.08193266527706072,
          -0.07637037110214095,
          -0.08114143297607757,
          -0.0776677105244118,
          -0.0807203948977677,
          -0.07765249503370691,
          -0.08402906158915609,
          -0.07708639468743159,
          -0.08128574270420974,
          -0.07981627339005852,
          -0.07793747696334084,
          -0.07453751950142787,
          -0.08873115407436832,
          -0.07683413994448202,
          -0.07548128815572008,
          -0.07704264661724687,
          -0.0765880577710696,
          -0.0793893992393215,
          -0.07750373984235497,
          -0.07752815810741935,
          -0.08548266532039923,
          -0.07355895012459619,
          -0.08022204304483316,
          -0.07553087311541476,
          -0.07565003251521094,
          -0.06522188101972745,
          -0.07902561959062329,
          -0.07535760961235426,
          -0.07530943567697669,
          -0.0756140328140447,
          -0.07776695551334954,
          -0.07912771021923194,
          -0.077998590960359,
          -0.0769950620158443,
          -0.07620151291694108,
          -0.07746082159333717,
          -0.07685317195986006,
          -0.07653776884164663,
          -0.07800762883984022,
          -0.07937710749535797,
          -0.07658587714282553,
          -0.07651382156399754,
          -0.07738344274191229,
          -0.07706617281849679,
          -0.0755444504279595,
          -0.07795542868592437,
          -0.07782568077701106,
          -0.07500237010918484,
          -0.08218610485456543,
          -0.07861584439209203,
          -0.07527807086354082,
          -0.07578603149416316,
          -0.07860024405844084,
          -0.07685700392483412,
          -0.07725762782015104,
          -0.07689920444143687,
          -0.0831131514236974,
          -0.08283518509393516,
          -0.08090433162498006,
          -0.07979063660900931,
          -0.08143912283100485,
          -0.08610528714811448,
          -0.08258960574931512,
          -0.07413401348800214,
          -0.07933923769655118,
          -0.07724510884224013,
          -0.07899263024730277,
          -0.07481367960047386,
          -0.07839646060409228,
          -0.07775510630735685,
          -0.07826205316292813,
          -0.07715025265406907,
          -0.0816635700624587,
          -0.0753310122719426,
          -0.07718399495070367,
          -0.07645087917913625,
          -0.07767257910920142,
          -0.07963284195100218,
          -0.07584386078108452,
          -0.07591850129831855,
          -0.0828276576411737,
          -0.07709535526130663,
          -0.08201471277144709,
          -0.0814167468313093,
          -0.08104453948917247,
          -0.0779418545499842,
          -0.08376825373903116,
          -0.1030920638932444,
          -0.08899338103112839,
          -0.07750539616238536,
          -0.07885798757965172,
          -0.07558986382468758,
          -0.08333782370401002,
          -0.07745567372103408,
          -0.07627123572419685,
          -0.07710210609843585,
          -0.07739783157420398,
          -0.07827100470918315,
          -0.0781137324362374,
          -0.07746386244945719,
          -0.07608440131053817,
          -0.08038667733438802,
          -0.0703140701520084,
          -0.07624950499597492,
          -0.07782924763567833,
          -0.08026695639815856,
          -0.0758195429423874,
          -0.08313797294347709,
          -0.07881929155547499,
          -0.07768757576797168,
          -0.07541755025561625,
          -0.07695018474251877,
          -0.07729935973932259,
          -0.07842953063634904,
          -0.07781729895484168,
          -0.07792875745453898,
          -0.08438888862136522,
          -0.07601383380690593,
          -0.08252685152023168,
          -0.07802632343732807,
          -0.07636898841115045,
          -0.07617241155072102,
          -0.0801069173910997,
          -0.0763822627628583,
          -0.07549868837529027,
          -0.08525615858965123,
          -0.07946661673699519,
          -0.07801223562740968,
          -0.07587003269356261,
          -0.07713182496352285,
          -0.07856828465742806,
          -0.07646872668773665,
          -0.07734346227621465,
          -0.07582200704009703,
          -0.07727084116815292,
          -0.07565972052332498,
          -0.07556562546768777,
          -0.07932818357164013,
          -0.07720867047059367,
          -0.07690650092840755,
          -0.07987150888952303,
          -0.07807446859379095,
          -0.0769870098567573,
          -0.07568005056216966,
          -0.0850413362969012,
          -0.07603639963495107,
          -0.09288806870484755,
          -0.07630550979823779,
          -0.07799660010552503,
          -0.07758184184248816,
          -0.076216612084527,
          -0.07621996373022942,
          -0.07485777228752796,
          -0.07784303509402889,
          -0.07873118017994661,
          -0.07857680805103992,
          -0.07707959294305224,
          -0.07651569885909455,
          -0.0747890950496008,
          -0.07461462014148952,
          -0.07623167613573562,
          -0.07536198219716074,
          -0.0742830237735411,
          -0.08088571452276287,
          -0.08468821157999988,
          -0.0790932225599196,
          -0.07634134699872168,
          -0.07824063469803355,
          -0.08184831232206972,
          -0.07970805651170128,
          -0.07894992566766589,
          -0.08361980884804876,
          -0.07467228810761031,
          -0.07653776677696802,
          -0.08509986921293844,
          -0.07998704070779969,
          -0.08865047760785001,
          -0.0795050878511666,
          -0.07254570533458697,
          -0.08914935539874953,
          -0.08256893658778375,
          -0.08018664564011481,
          -0.0785021606046076,
          -0.08344842369267168,
          -0.0766205642633237,
          -0.07961429233216394,
          -0.07767485007775896,
          -0.0827573086477116,
          -0.08408569982818188,
          -0.07727293439005299,
          -0.07787834266046434,
          -0.07751064123982557
         ]
        },
        {
         "marker": {
          "color": "rgba(144, 238, 144, 0.8)"
         },
         "mode": "markers",
         "name": "Cluster 4",
         "type": "scatter3d",
         "x": [
          -0.6875029532651209,
          -0.6865490619205604,
          -0.6867847263682366,
          -0.6866115796168658,
          -0.6867549539559796,
          -0.6857592956436332,
          -0.6871986902311445,
          -0.6861235604481155,
          -0.688068702743528,
          -0.6863680366699146,
          -0.6883741873323145,
          -0.6871557560686066,
          -0.6873478016268564,
          -0.6871385481718865,
          -0.6868380811618913,
          -0.6891654287235928,
          -0.6862420704009429,
          -0.687148576235226,
          -0.6864483924993029,
          -0.6865749831933932,
          -0.686097314318496,
          -0.6870214455272282,
          -0.6869826238403344,
          -0.6861295579605401,
          -0.6861451042105782,
          -0.6861234838581282,
          -0.6863908799177956,
          -0.6869175600952095
         ],
         "y": [
          -0.13465270041273508,
          -0.13835525135280174,
          -0.13506871991221767,
          -0.13799840907606667,
          -0.13604764494220015,
          -0.14004319603507395,
          -0.13709309007530376,
          -0.13901533836887547,
          -0.13086936010981126,
          -0.13769852465532265,
          -0.12841028549191238,
          -0.13492077007283718,
          -0.13294793284130044,
          -0.13470383707361594,
          -0.1365479298010019,
          -0.1264344821704951,
          -0.14073135599803135,
          -0.1369373490156089,
          -0.1369425886256378,
          -0.13600064808419038,
          -0.1400185740786468,
          -0.1345703146198072,
          -0.135434665581017,
          -0.14070321334965732,
          -0.13955165178185025,
          -0.13885339439626007,
          -0.1364500263798948,
          -0.13457515745848203
         ],
         "z": [
          1.3654554628832651,
          1.3680508787328889,
          1.3691974383218155,
          1.3673547497446603,
          1.3684597563823016,
          1.3730007937648838,
          1.3659592078729974,
          1.3702931820517366,
          1.366144082830226,
          1.3694385188404228,
          1.3661346110057218,
          1.3675464628288732,
          1.3674601956316972,
          1.3679887759294826,
          1.3684434785886737,
          1.3644882076863682,
          1.3669589862898708,
          1.3766304570477872,
          1.3698180835402693,
          1.3694656114049988,
          1.3698846767766275,
          1.369436099724539,
          1.3684281281564816,
          1.3671843962427597,
          1.368499489995325,
          1.3711114970816587,
          1.3741424866597358,
          1.3708631226544936
         ]
        },
        {
         "marker": {
          "color": "rgba(48, 25, 52, 0.8)"
         },
         "mode": "markers",
         "name": "Cluster 5",
         "type": "scatter3d",
         "x": [
          -2.134252115259653,
          -2.1351662927609363,
          -2.134718696358357,
          -2.132164540635974,
          -2.1330131596112385,
          -2.1330315043715586,
          -2.1341409589729277,
          -2.1399156766206433,
          -2.136438982218212,
          -2.130484174143993,
          -2.1357213288736325,
          -2.1368892990807593,
          -2.1361169720491664,
          -2.1365576567436313,
          -2.133817748852432,
          -2.1320548345035597,
          -2.143241024302285,
          -2.1361437108268326,
          -2.1337346152439527,
          -2.144210260876805,
          -2.135434426124948,
          -2.137445387928218,
          -2.1402551281015114,
          -2.137887170132927,
          -2.142438790620051,
          -2.135513688005043,
          -2.142758528332295,
          -2.140917984313457,
          -2.164527786109594,
          -2.135649109152447,
          -2.147724586868914,
          -2.131566859493393,
          -2.1373503755800374,
          -2.151335888555879,
          -2.1379972425507483,
          -2.1338903292600753,
          -2.1641717620414953,
          -2.1339606543868093,
          -2.139195866109906,
          -2.157699486149595,
          -2.135986680800414,
          -2.1316137715549623,
          -2.1337101894039594,
          -2.1447631685968287,
          -2.1390817457250724,
          -2.1354709972231243,
          -2.1329179409606684,
          -2.1820365848102647,
          -2.1622927175550517,
          -2.152445552323996,
          -2.137197439601096,
          -2.1340501951194697,
          -2.1377097088864674,
          -2.139038166408817,
          -2.1348541709665207,
          -2.137028176204855,
          -2.139585674251622,
          -2.1341773186702437,
          -2.1398056790745934,
          -2.1388610986939947,
          -2.1342479081205052,
          -2.13391922291452,
          -2.145314067324955,
          -2.1425212511351996,
          -2.137569829603632,
          -2.135126987812683,
          -2.1388955623487154,
          -2.1355250857669934,
          -2.1460925022807635,
          -2.134688799268003,
          -2.1396587547693606,
          -2.1355513835121314,
          -2.1381674870721197,
          -2.1442599138495533,
          -2.140971760379819,
          -2.1360912074346388,
          -2.1370446685889033,
          -2.13673315509637,
          -2.1378468234043697,
          -2.1342825443184825,
          -2.133188377913396,
          -2.136579838412056,
          -2.1360097942289746,
          -2.14534202206666,
          -2.1378306868324257,
          -2.1351254223930773,
          -2.14362283386617,
          -2.1435319596177864,
          -2.140417030105597,
          -2.138527139730717,
          -2.1348635596857313,
          -2.1301910175303522,
          -2.1329124731719635,
          -2.136411068054069,
          -2.133212988061869,
          -2.1356461269703044,
          -2.1402845579262992,
          -2.132862826129778,
          -2.1342759499656117,
          -2.1377936991438387,
          -2.1391982644891536,
          -2.1337772011278036,
          -2.1316184305411454,
          -2.1339571666923036,
          -2.147259251429565
         ],
         "y": [
          0.47348919269238054,
          0.478213209633005,
          0.47655271070341676,
          0.46344945801965776,
          0.4685702446963986,
          0.4687023836946507,
          0.4739820644062394,
          0.49912062547252356,
          0.48475801133600394,
          0.45740625449525707,
          0.477380411136437,
          0.484430180873071,
          0.48027436749863617,
          0.48509166322449193,
          0.4710551800040634,
          0.4636961439159648,
          0.5092966521316412,
          0.480594622990994,
          0.471271983312966,
          0.5174271007861185,
          0.4804571694819693,
          0.48736919140153057,
          0.5004717765234249,
          0.48992069093223006,
          0.5108360626716133,
          0.479649170872631,
          0.5108906301564462,
          0.5035054374614262,
          0.5999558300701175,
          0.48011730773533967,
          0.5330559420415099,
          0.45870463483994106,
          0.48867253159775653,
          0.5489673022352994,
          0.49116098327461055,
          0.4729622911300349,
          0.6004228715779699,
          0.47333360656105034,
          0.49570980058427294,
          0.5777882837213086,
          0.48044196191739647,
          0.46131806284363225,
          0.47175254044473175,
          0.519581037567455,
          0.49645551510643543,
          0.47912005862890356,
          0.468402116992722,
          0.6807517829111351,
          0.5918031065551527,
          0.5533201522581297,
          0.4871884010911538,
          0.474715193014802,
          0.4893725978421425,
          0.49590369685444324,
          0.47779885001544103,
          0.4875586956867894,
          0.49770861366575836,
          0.4746215180224116,
          0.49774631235569616,
          0.49362492445459216,
          0.4735173805628606,
          0.4709823468406791,
          0.5208746456820761,
          0.5114356534599841,
          0.4895471941788629,
          0.47881423925207284,
          0.49576278897765397,
          0.48080829578833006,
          0.5263122619543336,
          0.4765829308880429,
          0.49674084867618135,
          0.4805519838345676,
          0.49248202561882504,
          0.5180200520910226,
          0.5048454974590737,
          0.48292626254509,
          0.4867704410949245,
          0.48568594386490377,
          0.49101475442229503,
          0.47332015799659044,
          0.4690936581947463,
          0.4859673350247884,
          0.4828562746055797,
          0.5242382219425542,
          0.49073898968264024,
          0.4757596531751551,
          0.5155834301250724,
          0.5160546013675583,
          0.5023637701350964,
          0.49416903772689835,
          0.4776058818953256,
          0.4526565752893835,
          0.46752170516483027,
          0.48433194948795066,
          0.46998195525313896,
          0.48053385266646936,
          0.5005540752532308,
          0.4684101499432645,
          0.47452307624977186,
          0.490250554021794,
          0.49670582378569383,
          0.4712263918460506,
          0.461778510289485,
          0.4719968523493756,
          0.5302646867045221
         ],
         "z": [
          -0.20158378860371717,
          -0.2020318895007433,
          -0.2023794745499733,
          -0.1984489689832726,
          -0.19898601839516553,
          -0.19788078933413103,
          -0.19959869330043775,
          -0.20941482269827408,
          -0.2016880700600094,
          -0.19345143404598894,
          -0.20678705279186718,
          -0.20453402242497448,
          -0.20572991743409627,
          -0.20344570587377311,
          -0.2006342766390299,
          -0.19759396942853982,
          -0.22510094292411956,
          -0.20576415395952644,
          -0.1995676365440565,
          -0.21854051733946317,
          -0.20059574500257527,
          -0.2061535374045017,
          -0.21083063174031916,
          -0.20588197349596563,
          -0.21212604696489717,
          -0.2020613255246105,
          -0.2167284941070167,
          -0.21096901773935797,
          -0.25949859344631165,
          -0.20257781480107273,
          -0.2229128251767077,
          -0.1991482258477502,
          -0.20461435633667155,
          -0.23014022158786177,
          -0.20645619957106648,
          -0.198756667576277,
          -0.25426856609530724,
          -0.19865730391328473,
          -0.20821875832574893,
          -0.23744993193874606,
          -0.20375548243824732,
          -0.1950358264312464,
          -0.19926055659378653,
          -0.2173750949485823,
          -0.20700926937542305,
          -0.2030962385551246,
          -0.19746111748696749,
          -0.2809960794245627,
          -0.25938247046460156,
          -0.23243141358592215,
          -0.20551933426255425,
          -0.1979423111493513,
          -0.20569913577712742,
          -0.20740107136447,
          -0.20003020737480842,
          -0.20380820182273954,
          -0.20867355818381442,
          -0.19993512516687847,
          -0.20954687534974314,
          -0.20853235552713262,
          -0.20083351188992696,
          -0.201561558554345,
          -0.21916619242058544,
          -0.21303989495293482,
          -0.2048269214019551,
          -0.20093587769323112,
          -0.20630069296118714,
          -0.2007884769425138,
          -0.21886328654225398,
          -0.20001724765681994,
          -0.20961578402742878,
          -0.20228822588744153,
          -0.20526749333696367,
          -0.2199952056483694,
          -0.2092825505422031,
          -0.20283246253183115,
          -0.20378635257580371,
          -0.20451754946255002,
          -0.2035223625177998,
          -0.20106480559034723,
          -0.19929371687062145,
          -0.20229921353682506,
          -0.20213509166028015,
          -0.2153612277581767,
          -0.20434214816335264,
          -0.20302461355870796,
          -0.21516413990871341,
          -0.21409236939014403,
          -0.208328659119546,
          -0.20404294498176997,
          -0.2008222065301764,
          -0.1970043577114195,
          -0.1991012905171916,
          -0.20197634962711097,
          -0.19769292287716855,
          -0.2028737607420299,
          -0.20970689395002745,
          -0.19701836379539028,
          -0.19993493758211517,
          -0.20598539870688884,
          -0.20709206670575164,
          -0.20004634866450252,
          -0.19638730266793825,
          -0.19944268774185972,
          -0.222337364731764
         ]
        }
       ],
       "layout": {
        "template": {
         "data": {
          "bar": [
           {
            "error_x": {
             "color": "#2a3f5f"
            },
            "error_y": {
             "color": "#2a3f5f"
            },
            "marker": {
             "line": {
              "color": "#E5ECF6",
              "width": 0.5
             },
             "pattern": {
              "fillmode": "overlay",
              "size": 10,
              "solidity": 0.2
             }
            },
            "type": "bar"
           }
          ],
          "barpolar": [
           {
            "marker": {
             "line": {
              "color": "#E5ECF6",
              "width": 0.5
             },
             "pattern": {
              "fillmode": "overlay",
              "size": 10,
              "solidity": 0.2
             }
            },
            "type": "barpolar"
           }
          ],
          "carpet": [
           {
            "aaxis": {
             "endlinecolor": "#2a3f5f",
             "gridcolor": "white",
             "linecolor": "white",
             "minorgridcolor": "white",
             "startlinecolor": "#2a3f5f"
            },
            "baxis": {
             "endlinecolor": "#2a3f5f",
             "gridcolor": "white",
             "linecolor": "white",
             "minorgridcolor": "white",
             "startlinecolor": "#2a3f5f"
            },
            "type": "carpet"
           }
          ],
          "choropleth": [
           {
            "colorbar": {
             "outlinewidth": 0,
             "ticks": ""
            },
            "type": "choropleth"
           }
          ],
          "contour": [
           {
            "colorbar": {
             "outlinewidth": 0,
             "ticks": ""
            },
            "colorscale": [
             [
              0,
              "#0d0887"
             ],
             [
              0.1111111111111111,
              "#46039f"
             ],
             [
              0.2222222222222222,
              "#7201a8"
             ],
             [
              0.3333333333333333,
              "#9c179e"
             ],
             [
              0.4444444444444444,
              "#bd3786"
             ],
             [
              0.5555555555555556,
              "#d8576b"
             ],
             [
              0.6666666666666666,
              "#ed7953"
             ],
             [
              0.7777777777777778,
              "#fb9f3a"
             ],
             [
              0.8888888888888888,
              "#fdca26"
             ],
             [
              1,
              "#f0f921"
             ]
            ],
            "type": "contour"
           }
          ],
          "contourcarpet": [
           {
            "colorbar": {
             "outlinewidth": 0,
             "ticks": ""
            },
            "type": "contourcarpet"
           }
          ],
          "heatmap": [
           {
            "colorbar": {
             "outlinewidth": 0,
             "ticks": ""
            },
            "colorscale": [
             [
              0,
              "#0d0887"
             ],
             [
              0.1111111111111111,
              "#46039f"
             ],
             [
              0.2222222222222222,
              "#7201a8"
             ],
             [
              0.3333333333333333,
              "#9c179e"
             ],
             [
              0.4444444444444444,
              "#bd3786"
             ],
             [
              0.5555555555555556,
              "#d8576b"
             ],
             [
              0.6666666666666666,
              "#ed7953"
             ],
             [
              0.7777777777777778,
              "#fb9f3a"
             ],
             [
              0.8888888888888888,
              "#fdca26"
             ],
             [
              1,
              "#f0f921"
             ]
            ],
            "type": "heatmap"
           }
          ],
          "heatmapgl": [
           {
            "colorbar": {
             "outlinewidth": 0,
             "ticks": ""
            },
            "colorscale": [
             [
              0,
              "#0d0887"
             ],
             [
              0.1111111111111111,
              "#46039f"
             ],
             [
              0.2222222222222222,
              "#7201a8"
             ],
             [
              0.3333333333333333,
              "#9c179e"
             ],
             [
              0.4444444444444444,
              "#bd3786"
             ],
             [
              0.5555555555555556,
              "#d8576b"
             ],
             [
              0.6666666666666666,
              "#ed7953"
             ],
             [
              0.7777777777777778,
              "#fb9f3a"
             ],
             [
              0.8888888888888888,
              "#fdca26"
             ],
             [
              1,
              "#f0f921"
             ]
            ],
            "type": "heatmapgl"
           }
          ],
          "histogram": [
           {
            "marker": {
             "pattern": {
              "fillmode": "overlay",
              "size": 10,
              "solidity": 0.2
             }
            },
            "type": "histogram"
           }
          ],
          "histogram2d": [
           {
            "colorbar": {
             "outlinewidth": 0,
             "ticks": ""
            },
            "colorscale": [
             [
              0,
              "#0d0887"
             ],
             [
              0.1111111111111111,
              "#46039f"
             ],
             [
              0.2222222222222222,
              "#7201a8"
             ],
             [
              0.3333333333333333,
              "#9c179e"
             ],
             [
              0.4444444444444444,
              "#bd3786"
             ],
             [
              0.5555555555555556,
              "#d8576b"
             ],
             [
              0.6666666666666666,
              "#ed7953"
             ],
             [
              0.7777777777777778,
              "#fb9f3a"
             ],
             [
              0.8888888888888888,
              "#fdca26"
             ],
             [
              1,
              "#f0f921"
             ]
            ],
            "type": "histogram2d"
           }
          ],
          "histogram2dcontour": [
           {
            "colorbar": {
             "outlinewidth": 0,
             "ticks": ""
            },
            "colorscale": [
             [
              0,
              "#0d0887"
             ],
             [
              0.1111111111111111,
              "#46039f"
             ],
             [
              0.2222222222222222,
              "#7201a8"
             ],
             [
              0.3333333333333333,
              "#9c179e"
             ],
             [
              0.4444444444444444,
              "#bd3786"
             ],
             [
              0.5555555555555556,
              "#d8576b"
             ],
             [
              0.6666666666666666,
              "#ed7953"
             ],
             [
              0.7777777777777778,
              "#fb9f3a"
             ],
             [
              0.8888888888888888,
              "#fdca26"
             ],
             [
              1,
              "#f0f921"
             ]
            ],
            "type": "histogram2dcontour"
           }
          ],
          "mesh3d": [
           {
            "colorbar": {
             "outlinewidth": 0,
             "ticks": ""
            },
            "type": "mesh3d"
           }
          ],
          "parcoords": [
           {
            "line": {
             "colorbar": {
              "outlinewidth": 0,
              "ticks": ""
             }
            },
            "type": "parcoords"
           }
          ],
          "pie": [
           {
            "automargin": true,
            "type": "pie"
           }
          ],
          "scatter": [
           {
            "fillpattern": {
             "fillmode": "overlay",
             "size": 10,
             "solidity": 0.2
            },
            "type": "scatter"
           }
          ],
          "scatter3d": [
           {
            "line": {
             "colorbar": {
              "outlinewidth": 0,
              "ticks": ""
             }
            },
            "marker": {
             "colorbar": {
              "outlinewidth": 0,
              "ticks": ""
             }
            },
            "type": "scatter3d"
           }
          ],
          "scattercarpet": [
           {
            "marker": {
             "colorbar": {
              "outlinewidth": 0,
              "ticks": ""
             }
            },
            "type": "scattercarpet"
           }
          ],
          "scattergeo": [
           {
            "marker": {
             "colorbar": {
              "outlinewidth": 0,
              "ticks": ""
             }
            },
            "type": "scattergeo"
           }
          ],
          "scattergl": [
           {
            "marker": {
             "colorbar": {
              "outlinewidth": 0,
              "ticks": ""
             }
            },
            "type": "scattergl"
           }
          ],
          "scattermapbox": [
           {
            "marker": {
             "colorbar": {
              "outlinewidth": 0,
              "ticks": ""
             }
            },
            "type": "scattermapbox"
           }
          ],
          "scatterpolar": [
           {
            "marker": {
             "colorbar": {
              "outlinewidth": 0,
              "ticks": ""
             }
            },
            "type": "scatterpolar"
           }
          ],
          "scatterpolargl": [
           {
            "marker": {
             "colorbar": {
              "outlinewidth": 0,
              "ticks": ""
             }
            },
            "type": "scatterpolargl"
           }
          ],
          "scatterternary": [
           {
            "marker": {
             "colorbar": {
              "outlinewidth": 0,
              "ticks": ""
             }
            },
            "type": "scatterternary"
           }
          ],
          "surface": [
           {
            "colorbar": {
             "outlinewidth": 0,
             "ticks": ""
            },
            "colorscale": [
             [
              0,
              "#0d0887"
             ],
             [
              0.1111111111111111,
              "#46039f"
             ],
             [
              0.2222222222222222,
              "#7201a8"
             ],
             [
              0.3333333333333333,
              "#9c179e"
             ],
             [
              0.4444444444444444,
              "#bd3786"
             ],
             [
              0.5555555555555556,
              "#d8576b"
             ],
             [
              0.6666666666666666,
              "#ed7953"
             ],
             [
              0.7777777777777778,
              "#fb9f3a"
             ],
             [
              0.8888888888888888,
              "#fdca26"
             ],
             [
              1,
              "#f0f921"
             ]
            ],
            "type": "surface"
           }
          ],
          "table": [
           {
            "cells": {
             "fill": {
              "color": "#EBF0F8"
             },
             "line": {
              "color": "white"
             }
            },
            "header": {
             "fill": {
              "color": "#C8D4E3"
             },
             "line": {
              "color": "white"
             }
            },
            "type": "table"
           }
          ]
         },
         "layout": {
          "annotationdefaults": {
           "arrowcolor": "#2a3f5f",
           "arrowhead": 0,
           "arrowwidth": 1
          },
          "autotypenumbers": "strict",
          "coloraxis": {
           "colorbar": {
            "outlinewidth": 0,
            "ticks": ""
           }
          },
          "colorscale": {
           "diverging": [
            [
             0,
             "#8e0152"
            ],
            [
             0.1,
             "#c51b7d"
            ],
            [
             0.2,
             "#de77ae"
            ],
            [
             0.3,
             "#f1b6da"
            ],
            [
             0.4,
             "#fde0ef"
            ],
            [
             0.5,
             "#f7f7f7"
            ],
            [
             0.6,
             "#e6f5d0"
            ],
            [
             0.7,
             "#b8e186"
            ],
            [
             0.8,
             "#7fbc41"
            ],
            [
             0.9,
             "#4d9221"
            ],
            [
             1,
             "#276419"
            ]
           ],
           "sequential": [
            [
             0,
             "#0d0887"
            ],
            [
             0.1111111111111111,
             "#46039f"
            ],
            [
             0.2222222222222222,
             "#7201a8"
            ],
            [
             0.3333333333333333,
             "#9c179e"
            ],
            [
             0.4444444444444444,
             "#bd3786"
            ],
            [
             0.5555555555555556,
             "#d8576b"
            ],
            [
             0.6666666666666666,
             "#ed7953"
            ],
            [
             0.7777777777777778,
             "#fb9f3a"
            ],
            [
             0.8888888888888888,
             "#fdca26"
            ],
            [
             1,
             "#f0f921"
            ]
           ],
           "sequentialminus": [
            [
             0,
             "#0d0887"
            ],
            [
             0.1111111111111111,
             "#46039f"
            ],
            [
             0.2222222222222222,
             "#7201a8"
            ],
            [
             0.3333333333333333,
             "#9c179e"
            ],
            [
             0.4444444444444444,
             "#bd3786"
            ],
            [
             0.5555555555555556,
             "#d8576b"
            ],
            [
             0.6666666666666666,
             "#ed7953"
            ],
            [
             0.7777777777777778,
             "#fb9f3a"
            ],
            [
             0.8888888888888888,
             "#fdca26"
            ],
            [
             1,
             "#f0f921"
            ]
           ]
          },
          "colorway": [
           "#636efa",
           "#EF553B",
           "#00cc96",
           "#ab63fa",
           "#FFA15A",
           "#19d3f3",
           "#FF6692",
           "#B6E880",
           "#FF97FF",
           "#FECB52"
          ],
          "font": {
           "color": "#2a3f5f"
          },
          "geo": {
           "bgcolor": "white",
           "lakecolor": "white",
           "landcolor": "#E5ECF6",
           "showlakes": true,
           "showland": true,
           "subunitcolor": "white"
          },
          "hoverlabel": {
           "align": "left"
          },
          "hovermode": "closest",
          "mapbox": {
           "style": "light"
          },
          "paper_bgcolor": "white",
          "plot_bgcolor": "#E5ECF6",
          "polar": {
           "angularaxis": {
            "gridcolor": "white",
            "linecolor": "white",
            "ticks": ""
           },
           "bgcolor": "#E5ECF6",
           "radialaxis": {
            "gridcolor": "white",
            "linecolor": "white",
            "ticks": ""
           }
          },
          "scene": {
           "xaxis": {
            "backgroundcolor": "#E5ECF6",
            "gridcolor": "white",
            "gridwidth": 2,
            "linecolor": "white",
            "showbackground": true,
            "ticks": "",
            "zerolinecolor": "white"
           },
           "yaxis": {
            "backgroundcolor": "#E5ECF6",
            "gridcolor": "white",
            "gridwidth": 2,
            "linecolor": "white",
            "showbackground": true,
            "ticks": "",
            "zerolinecolor": "white"
           },
           "zaxis": {
            "backgroundcolor": "#E5ECF6",
            "gridcolor": "white",
            "gridwidth": 2,
            "linecolor": "white",
            "showbackground": true,
            "ticks": "",
            "zerolinecolor": "white"
           }
          },
          "shapedefaults": {
           "line": {
            "color": "#2a3f5f"
           }
          },
          "ternary": {
           "aaxis": {
            "gridcolor": "white",
            "linecolor": "white",
            "ticks": ""
           },
           "baxis": {
            "gridcolor": "white",
            "linecolor": "white",
            "ticks": ""
           },
           "bgcolor": "#E5ECF6",
           "caxis": {
            "gridcolor": "white",
            "linecolor": "white",
            "ticks": ""
           }
          },
          "title": {
           "x": 0.05
          },
          "xaxis": {
           "automargin": true,
           "gridcolor": "white",
           "linecolor": "white",
           "ticks": "",
           "title": {
            "standoff": 15
           },
           "zerolinecolor": "white",
           "zerolinewidth": 2
          },
          "yaxis": {
           "automargin": true,
           "gridcolor": "white",
           "linecolor": "white",
           "ticks": "",
           "title": {
            "standoff": 15
           },
           "zerolinecolor": "white",
           "zerolinewidth": 2
          }
         }
        },
        "title": {
         "text": "Visualizing Clusters in Three Dimensions Using PCA"
        },
        "xaxis": {
         "ticklen": 5,
         "title": {
          "text": "PC1"
         },
         "zeroline": false
        },
        "yaxis": {
         "ticklen": 5,
         "title": {
          "text": "PC2"
         },
         "zeroline": false
        }
       }
      },
      "text/html": [
       "<div>                            <div id=\"184284a5-51ac-49ee-b44a-fe6a579c174a\" class=\"plotly-graph-div\" style=\"height:525px; width:100%;\"></div>            <script type=\"text/javascript\">                require([\"plotly\"], function(Plotly) {                    window.PLOTLYENV=window.PLOTLYENV || {};                                    if (document.getElementById(\"184284a5-51ac-49ee-b44a-fe6a579c174a\")) {                    Plotly.newPlot(                        \"184284a5-51ac-49ee-b44a-fe6a579c174a\",                        [{\"marker\":{\"color\":\"rgba(255, 128, 255, 0.8)\"},\"mode\":\"markers\",\"name\":\"Cluster 0\",\"x\":[3.2491336748542143,3.2479414101087833,3.248752797649024,3.2461325213720955,3.2484125088680345,3.2483438798185897,3.2492935029803016,3.245745834291439,3.2494934680932572,3.249073856589565,3.2446177284162356,3.2407470185738854,3.2495521701858867,3.2494308354051853,3.2496813551605612,3.243464316771156,3.2493062717115158,3.249340425895405,3.2480147575660947,3.2488982795773436,3.2467424413656594,3.2488736721610927,3.2457735774556107,3.2491494418512876,3.2476345602962664,3.2488222573909065,3.2470515325659735,3.2489499689931294,3.249635490542782,3.249616085635705,3.2498501049657262,3.248743016002791,3.249462602609059,3.24938606113563,3.247130331252474,3.2440420154599523,3.248850197527024,3.249983510333014,3.248198291693728,3.2485704939048063,3.248828901828093,3.248819051498017,3.2450169181159945,3.24459210581167,3.2504596097135563,3.247542931335781,3.2473930010842045,3.250259492400312,3.2485357800804824,3.24795316620641,3.249865570726641,3.2495617904223564,3.246607283962818,3.2421290165646224,3.2493367724969793,3.249798206609067,3.249604038158008,3.248202511620969,3.246267092017745],\"y\":[0.36099132101472736,0.36830821982820544,0.3650601038049797,0.37390807750641414,0.3678243930857447,0.36776469341694684,0.36323844168500885,0.37934980598013784,0.36080366650642043,0.3640459816299665,0.3838940197769618,0.4005132781647088,0.36061871119080585,0.36294232899618994,0.3604875489792436,0.3884654839401508,0.36345240001354917,0.36288535688047907,0.3678254956564363,0.36518421654895145,0.37546139325034317,0.3648382123042447,0.37855328296541957,0.3612746279872483,0.3708223075953033,0.36405029968947883,0.37329050458047464,0.3644386598287441,0.36013011656762783,0.3617214128007035,0.35570727790371337,0.36363942627206625,0.3601435796304306,0.36142514860938274,0.3719240487532227,0.3857483958298117,0.3647762893690178,0.359387903358917,0.3665625207203412,0.3661945055372857,0.36557781506152603,0.36527929048405444,0.37804151435584554,0.3823429027373375,0.3550722612602617,0.3698851704418098,0.3716668878040431,0.35282038823050044,0.3604077399325303,0.36848538265956643,0.3606798265896002,0.35993522896877445,0.3756617206945821,0.3930776258950499,0.3613280588374032,0.3600181387300333,0.36219561295711783,0.36824881008520866,0.37647654410615927],\"z\":[-0.12388797577452404,-0.12594326977326176,-0.1253554742877955,-0.13340941648414445,-0.12442523870118542,-0.12474220178914931,-0.12373412704835858,-0.12901385294699438,-0.12521120101246455,-0.12444904354514177,-0.13181169787998387,-0.13867570330315426,-0.12452566623961787,-0.12275505090139419,-0.12395628857542233,-0.13401143006075872,-0.12184553915047075,-0.12383862420596267,-0.1270520841839622,-0.12412313222279855,-0.12698712841312015,-0.12361067308509584,-0.13080895076466928,-0.12646350119316035,-0.12652172194617756,-0.1254920330565358,-0.12783094215844773,-0.12406237040235722,-0.12451383255080042,-0.12321104232526107,-0.12704045923016977,-0.12452756613904667,-0.12553684096144765,-0.12410955620224244,-0.12869962522007597,-0.13342102288018756,-0.12488981434000918,-0.12315120058064873,-0.12760163490849727,-0.1242288707133906,-0.1242350230481358,-0.12316259006726757,-0.13448550087398273,-0.13499359288064983,-0.12408652342901351,-0.12794870592589816,-0.12612502857597754,-0.12781318992500576,-0.130397662073065,-0.12723207399595618,-0.12150685268526715,-0.12535661265933337,-0.1263738783166569,-0.1379853252860271,-0.12529693266413613,-0.12334506933543457,-0.12184223051411208,-0.1261559098770295,-0.12962517803841495],\"type\":\"scatter3d\"},{\"marker\":{\"color\":\"rgba(255, 128, 2, 0.8)\"},\"mode\":\"markers\",\"name\":\"Cluster 1\",\"x\":[1.9400613899046077],\"y\":[-0.36389449110778666],\"z\":[-0.3959658466579436],\"type\":\"scatter3d\"},{\"marker\":{\"color\":\"rgba(0, 255, 200, 0.8)\"},\"mode\":\"markers\",\"name\":\"Cluster 2\",\"x\":[1.0391892037640493,1.032174523705551,1.0291864062253682,1.032462919606959,1.040240038872024,1.0321490926308146,1.0204231886610493,1.0381515860895296,1.0263039551891104,1.0376240015304055,1.0436384506920064,1.041410321238842,1.0432661584284697,1.0359383825932444,1.0232272651486085,1.0364600827657344,1.0357053007051216,1.0360918444849667,0.8521414883911845,0.8578651383645043,0.8564595007927395,0.8549527178345433,0.856797300963813,0.8484764303576725,0.8536993988815841,0.8509875193131713,0.8467004475841651,0.8535708175439276,0.8490101224499953,0.8493417544232716,0.8458711537718633,0.8524668249551298,0.8446822776301279,0.8464041989452427,0.8232646994509755,0.8608815225059001,0.8553179946773531],\"y\":[1.4156811012151886,1.4461130246612317,1.459328492685866,1.4450091499565314,1.4115328904367161,1.4463547417914726,1.4958790059933171,1.420392571115045,1.4713993069536886,1.4227068303871715,1.3964098340239297,1.4036486085683268,1.3968862953083527,1.43022809909645,1.4848928866193172,1.4275816408911168,1.4306472652594344,1.4278650479801696,1.2649972083461993,1.2399493371103454,1.2460827545017072,1.2527180512488065,1.2432790585778877,1.2807622114602573,1.2588000602207643,1.2710635584041798,1.2896764193720807,1.2589998105084437,1.2781476889173258,1.2770897794121652,1.294080684659524,1.2634461865690894,1.2965390329872069,1.2888363301317807,1.392545188497048,1.2259204027861597,1.2484093844601067],\"z\":[-0.24902369044341155,-0.2599133985948778,-0.26513382215686776,-0.25969366025454865,-0.2461500837044636,-0.2610651196176697,-0.282152317597979,-0.25031503211978523,-0.27022266366659475,-0.25226720082297616,-0.24014445559867914,-0.24727479473758748,-0.24188723318750108,-0.25423462106176675,-0.2761614486365816,-0.2537365058839285,-0.2544393201675941,-0.2545791572194768,0.6606412289228468,0.6709074261238095,0.6686777651635016,0.6660262528501347,0.6669998121484336,0.655004863335342,0.6643484103713587,0.660935555226962,0.6535284348416479,0.6627810980081174,0.6554812320103304,0.6546277224619367,0.6535963541381811,0.659716386104708,0.6454022150218407,0.6506135249183973,0.6190391111143589,0.6768447896469608,0.6636855404730431],\"type\":\"scatter3d\"},{\"marker\":{\"color\":\"rgba(255, 255, 0, 0.8)\"},\"mode\":\"markers\",\"name\":\"Cluster 3\",\"x\":[0.0742753060053255,0.07190451508137165,0.07354159525858997,0.07284547533668374,0.07105750674107497,0.07439154521205348,0.07389764764761225,0.07439766981088951,0.0744197966560745,0.07480700140052202,0.07109476462534807,0.07295120824170148,0.07414541634236488,0.0735224269479288,0.07365533107629718,0.07335423787287408,0.07718462878455154,0.07374594414070096,0.07219038112337642,0.0742641773523077,0.07163593714461154,0.07510444575445799,0.07200781447027368,0.0744076099514671,0.07034075520433916,0.0735421754155629,0.07085384766934605,0.07244552061718675,0.07388532969407402,0.07502482263034596,0.06840389449495574,0.07323729460408318,0.07562067733215731,0.07288990391113326,0.0744514537313106,0.07270073456625813,0.07386037487858085,0.07468026356179157,0.07295748594712731,0.07473576902394591,0.0736849986305205,0.07492033632910897,0.0744336632648751,0.07684728400278787,0.07266212376689367,0.07461324251417585,0.07461698455750883,0.07457053060755776,0.07473801093677608,0.07333491089144892,0.07422089336900867,0.07454470000960584,0.07475289013597639,0.07434305427398089,0.0748827537892155,0.07439870859197051,0.07384842053152516,0.07295447564219323,0.07477480891824774,0.07425752903568009,0.07447060047031723,0.07394308683732351,0.07524948316923699,0.07518473557834511,0.07618902635586088,0.07518333418414982,0.07148845123155013,0.07568694140245363,0.07464070647815949,0.07462551825963425,0.07384247390240944,0.07450150281488689,0.07418137128713183,0.07412534722677086,0.07056065158695567,0.07100149885695992,0.07308709349408722,0.07287593956838997,0.07251173233017258,0.07196001750761698,0.07304829775821889,0.07502348535220969,0.07396716096523846,0.07418601283047412,0.07328501336673507,0.0748980715655983,0.07525704360571342,0.07454748931971834,0.07353937696936105,0.07451884950655642,0.07230932495126983,0.07473800292646461,0.07439628822005459,0.07510028177155702,0.07413178553604025,0.07255378515075535,0.07470316055446471,0.07447541255454238,0.07062248184093663,0.07345101513421812,0.07329183558549282,0.07279813696935485,0.07261845419421281,0.07348441774930295,0.07120777427611405,0.06721466117439757,0.06682357217546651,0.0733490217017025,0.07360829164705433,0.07430772510315595,0.06956881951421418,0.07417613537276041,0.07494092075106408,0.07409066105801412,0.07399992661292668,0.07359303243580859,0.07540934611301271,0.0736442464705307,0.07440723276018797,0.07346122267400451,0.07579239847409314,0.07444691913895005,0.0737126054017193,0.07469476077300272,0.07515930367074805,0.0738590566331333,0.0751599164514137,0.0737187752271869,0.07471148351476437,0.07476397791581423,0.07627727291407235,0.07329874180709114,0.0736341782418096,0.07309291074242177,0.06968060441022303,0.07428787117080263,0.07027652649720062,0.07337230463863884,0.0742499933528349,0.07422170575221729,0.07291515260432148,0.07407902789038225,0.07576697184321424,0.07068065132819636,0.07298260843828167,0.07438944769843993,0.07461632151901866,0.07389230359492292,0.07299550652127682,0.074126915907734,0.07424539644764394,0.07455209523746105,0.0749056575425846,0.07482579344688262,0.07493123833815903,0.0735305560213633,0.07408924223956696,0.07419288550884941,0.07496933516152857,0.07373865181976358,0.07510830242091518,0.07476531948873968,0.07181970296323542,0.07387123532808791,0.06726574669623804,0.07472598772182526,0.07336072761874332,0.07480288330679863,0.07470108516848735,0.07457938154652982,0.074598723862377,0.07376294991518058,0.07308342964909459,0.07385732806695888,0.07434850429479933,0.07431900531152204,0.07503118394127359,0.0752302443242491,0.07464644137785174,0.07464861970308818,0.07570999180842362,0.07363319114605811,0.07205126149996706,0.0735330068871214,0.07436432228820583,0.07370206532008022,0.07190021147693311,0.07259568952838483,0.07335830314514685,0.06959470657792019,0.0733668081796916,0.07362473949212624,0.06940358381744863,0.07294836758601593,0.06704081112738408,0.0740435784806987,0.07525987722047105,0.0674994560633809,0.07220249170329188,0.07223516006157589,0.07384099544010897,0.07021791231649045,0.07308600568541582,0.07351391026886776,0.07373493247604337,0.07150023624546152,0.07073753421010685,0.07603125276226885,0.07419299040381862,0.07368505270739906],\"y\":[-0.5713274268180827,-0.5603398319161533,-0.567865921102649,-0.5645954675803521,-0.5568142919890141,-0.570895197560806,-0.5716496458734107,-0.5715137036884232,-0.5722453574748232,-0.5774335116408772,-0.5584843754655522,-0.564480472804182,-0.5719003639581919,-0.5704380045891241,-0.5673309243559874,-0.5696925453487357,-0.5891063146497518,-0.5703750632754966,-0.5630246878839079,-0.5703894708804149,-0.558924199071672,-0.5767787942188792,-0.5606097992401478,-0.5721370506378473,-0.5535553318833986,-0.5670414021367037,-0.5547430811428854,-0.5623427114698911,-0.5691732621862553,-0.5749634690261972,-0.5464541867310132,-0.5657351601979514,-0.5780536664258575,-0.563922891815263,-0.5718698820307883,-0.5632073791640423,-0.5688474419919661,-0.5740967773937031,-0.5694722093947716,-0.572572358410369,-0.5704786159404884,-0.5739333177174759,-0.5719163895845195,-0.581557362313529,-0.5630331621787024,-0.5712523015007198,-0.5712739151211425,-0.5722136266275599,-0.5785007085595663,-0.5674024389092823,-0.5715627813465674,-0.5724244277325586,-0.5740898821770358,-0.5718360650834395,-0.5746465883728035,-0.5716756754054018,-0.569431367794792,-0.5651548648303742,-0.574373399564246,-0.5707358866816545,-0.5727929026063105,-0.5689172653253074,-0.5754392730311737,-0.5781526102821658,-0.5873983338783616,-0.5759519901050366,-0.5581268086988391,-0.581125149303926,-0.5721388584160836,-0.5715359645624984,-0.5697615605935603,-0.5719388219096625,-0.5703866438703371,-0.5699561543781789,-0.5544325064353639,-0.5564964711605587,-0.5665955003295814,-0.5646003931716853,-0.5645318647790346,-0.5643497785510811,-0.5695882098281106,-0.5741164897361796,-0.5709397615385507,-0.5704486568130913,-0.566676464537592,-0.5730732721445488,-0.5780466385305926,-0.5730409395362895,-0.5668877570795822,-0.5731808991829175,-0.562153192730705,-0.5718214822565476,-0.5724265509882398,-0.5748586859136705,-0.5711221613104592,-0.5626733591734588,-0.5723276779509413,-0.5713000947149707,-0.5541249300863466,-0.566313796162387,-0.571345958617578,-0.5653923596972976,-0.5644082797750257,-0.5668717372558995,-0.5583574856529856,-0.5541506962503115,-0.537379925555591,-0.5658970654615063,-0.5681850902227435,-0.5700828816308684,-0.549738837476995,-0.5716095193425547,-0.5743473008863161,-0.5697247583450581,-0.5694933313802982,-0.5690692983809793,-0.579294584929175,-0.567130873467733,-0.5704484225604405,-0.5698810855740755,-0.5769711884684944,-0.571937495470297,-0.5678886365039525,-0.5777195120916119,-0.5767165878005514,-0.576799244744362,-0.5786519295544201,-0.56817154525518,-0.573457984448588,-0.5738720470292493,-0.5837477109062132,-0.5658852400936668,-0.5678854492680406,-0.5650388021961839,-0.5497217457533797,-0.5701926029174629,-0.5524176433337,-0.5662435039517686,-0.570104346617868,-0.5696467039704212,-0.5657148053256821,-0.5689724107742682,-0.5789598192614096,-0.555067473741422,-0.5645705509487443,-0.5727785587833073,-0.5718063382482463,-0.5684536464922216,-0.5647644744814725,-0.5694096744359632,-0.5709058135702296,-0.5713590767569279,-0.575320283047792,-0.5728980434315749,-0.5749319101952984,-0.5671429273522346,-0.569806752223521,-0.5701416978145559,-0.5777923702785644,-0.5680232803190378,-0.5768055567654006,-0.57407639702111,-0.563737290400706,-0.568220750198023,-0.5421594432426997,-0.5731372932978935,-0.5660967175053779,-0.5746972509121097,-0.5728090944982788,-0.5722349379871147,-0.5714630412569126,-0.5680136206892128,-0.5649269053475552,-0.5710692897726073,-0.5716763125477936,-0.5710427818674902,-0.5743876987938707,-0.575220963739946,-0.5724964299331767,-0.5718705464149182,-0.5791838196043861,-0.5706642106249126,-0.563945258261259,-0.568888182461683,-0.5709363123048605,-0.5703891690310743,-0.5605294487387996,-0.5632365673525962,-0.5662000743475655,-0.5496162235378369,-0.5662592587322535,-0.5675644353803236,-0.5493960643339982,-0.5651306600302566,-0.5387018569145869,-0.5720700495947514,-0.5751742590893356,-0.5421689221665625,-0.5652309222129729,-0.5615682044560313,-0.5690967960894081,-0.5531689807658575,-0.5655440383286682,-0.5690891213072498,-0.5677629328304937,-0.5599065923010119,-0.5588359542255535,-0.5822018090905449,-0.5707728517464852,-0.5676243468831061],\"z\":[-0.07631611323567833,-0.08099931754677007,-0.07836844390506463,-0.08104128889930509,-0.08199999086575534,-0.07579020728681342,-0.0788131620152767,-0.07638426173729565,-0.07743020717256738,-0.08018024745645577,-0.08385043979366238,-0.07889733372569428,-0.07879936115416657,-0.07994474923116687,-0.07747413625969442,-0.08220794163850018,-0.07581959615029019,-0.07917615150706186,-0.08193266527706072,-0.07637037110214095,-0.08114143297607757,-0.0776677105244118,-0.0807203948977677,-0.07765249503370691,-0.08402906158915609,-0.07708639468743159,-0.08128574270420974,-0.07981627339005852,-0.07793747696334084,-0.07453751950142787,-0.08873115407436832,-0.07683413994448202,-0.07548128815572008,-0.07704264661724687,-0.0765880577710696,-0.0793893992393215,-0.07750373984235497,-0.07752815810741935,-0.08548266532039923,-0.07355895012459619,-0.08022204304483316,-0.07553087311541476,-0.07565003251521094,-0.06522188101972745,-0.07902561959062329,-0.07535760961235426,-0.07530943567697669,-0.0756140328140447,-0.07776695551334954,-0.07912771021923194,-0.077998590960359,-0.0769950620158443,-0.07620151291694108,-0.07746082159333717,-0.07685317195986006,-0.07653776884164663,-0.07800762883984022,-0.07937710749535797,-0.07658587714282553,-0.07651382156399754,-0.07738344274191229,-0.07706617281849679,-0.0755444504279595,-0.07795542868592437,-0.07782568077701106,-0.07500237010918484,-0.08218610485456543,-0.07861584439209203,-0.07527807086354082,-0.07578603149416316,-0.07860024405844084,-0.07685700392483412,-0.07725762782015104,-0.07689920444143687,-0.0831131514236974,-0.08283518509393516,-0.08090433162498006,-0.07979063660900931,-0.08143912283100485,-0.08610528714811448,-0.08258960574931512,-0.07413401348800214,-0.07933923769655118,-0.07724510884224013,-0.07899263024730277,-0.07481367960047386,-0.07839646060409228,-0.07775510630735685,-0.07826205316292813,-0.07715025265406907,-0.0816635700624587,-0.0753310122719426,-0.07718399495070367,-0.07645087917913625,-0.07767257910920142,-0.07963284195100218,-0.07584386078108452,-0.07591850129831855,-0.0828276576411737,-0.07709535526130663,-0.08201471277144709,-0.0814167468313093,-0.08104453948917247,-0.0779418545499842,-0.08376825373903116,-0.1030920638932444,-0.08899338103112839,-0.07750539616238536,-0.07885798757965172,-0.07558986382468758,-0.08333782370401002,-0.07745567372103408,-0.07627123572419685,-0.07710210609843585,-0.07739783157420398,-0.07827100470918315,-0.0781137324362374,-0.07746386244945719,-0.07608440131053817,-0.08038667733438802,-0.0703140701520084,-0.07624950499597492,-0.07782924763567833,-0.08026695639815856,-0.0758195429423874,-0.08313797294347709,-0.07881929155547499,-0.07768757576797168,-0.07541755025561625,-0.07695018474251877,-0.07729935973932259,-0.07842953063634904,-0.07781729895484168,-0.07792875745453898,-0.08438888862136522,-0.07601383380690593,-0.08252685152023168,-0.07802632343732807,-0.07636898841115045,-0.07617241155072102,-0.0801069173910997,-0.0763822627628583,-0.07549868837529027,-0.08525615858965123,-0.07946661673699519,-0.07801223562740968,-0.07587003269356261,-0.07713182496352285,-0.07856828465742806,-0.07646872668773665,-0.07734346227621465,-0.07582200704009703,-0.07727084116815292,-0.07565972052332498,-0.07556562546768777,-0.07932818357164013,-0.07720867047059367,-0.07690650092840755,-0.07987150888952303,-0.07807446859379095,-0.0769870098567573,-0.07568005056216966,-0.0850413362969012,-0.07603639963495107,-0.09288806870484755,-0.07630550979823779,-0.07799660010552503,-0.07758184184248816,-0.076216612084527,-0.07621996373022942,-0.07485777228752796,-0.07784303509402889,-0.07873118017994661,-0.07857680805103992,-0.07707959294305224,-0.07651569885909455,-0.0747890950496008,-0.07461462014148952,-0.07623167613573562,-0.07536198219716074,-0.0742830237735411,-0.08088571452276287,-0.08468821157999988,-0.0790932225599196,-0.07634134699872168,-0.07824063469803355,-0.08184831232206972,-0.07970805651170128,-0.07894992566766589,-0.08361980884804876,-0.07467228810761031,-0.07653776677696802,-0.08509986921293844,-0.07998704070779969,-0.08865047760785001,-0.0795050878511666,-0.07254570533458697,-0.08914935539874953,-0.08256893658778375,-0.08018664564011481,-0.0785021606046076,-0.08344842369267168,-0.0766205642633237,-0.07961429233216394,-0.07767485007775896,-0.0827573086477116,-0.08408569982818188,-0.07727293439005299,-0.07787834266046434,-0.07751064123982557],\"type\":\"scatter3d\"},{\"marker\":{\"color\":\"rgba(144, 238, 144, 0.8)\"},\"mode\":\"markers\",\"name\":\"Cluster 4\",\"x\":[-0.6875029532651209,-0.6865490619205604,-0.6867847263682366,-0.6866115796168658,-0.6867549539559796,-0.6857592956436332,-0.6871986902311445,-0.6861235604481155,-0.688068702743528,-0.6863680366699146,-0.6883741873323145,-0.6871557560686066,-0.6873478016268564,-0.6871385481718865,-0.6868380811618913,-0.6891654287235928,-0.6862420704009429,-0.687148576235226,-0.6864483924993029,-0.6865749831933932,-0.686097314318496,-0.6870214455272282,-0.6869826238403344,-0.6861295579605401,-0.6861451042105782,-0.6861234838581282,-0.6863908799177956,-0.6869175600952095],\"y\":[-0.13465270041273508,-0.13835525135280174,-0.13506871991221767,-0.13799840907606667,-0.13604764494220015,-0.14004319603507395,-0.13709309007530376,-0.13901533836887547,-0.13086936010981126,-0.13769852465532265,-0.12841028549191238,-0.13492077007283718,-0.13294793284130044,-0.13470383707361594,-0.1365479298010019,-0.1264344821704951,-0.14073135599803135,-0.1369373490156089,-0.1369425886256378,-0.13600064808419038,-0.1400185740786468,-0.1345703146198072,-0.135434665581017,-0.14070321334965732,-0.13955165178185025,-0.13885339439626007,-0.1364500263798948,-0.13457515745848203],\"z\":[1.3654554628832651,1.3680508787328889,1.3691974383218155,1.3673547497446603,1.3684597563823016,1.3730007937648838,1.3659592078729974,1.3702931820517366,1.366144082830226,1.3694385188404228,1.3661346110057218,1.3675464628288732,1.3674601956316972,1.3679887759294826,1.3684434785886737,1.3644882076863682,1.3669589862898708,1.3766304570477872,1.3698180835402693,1.3694656114049988,1.3698846767766275,1.369436099724539,1.3684281281564816,1.3671843962427597,1.368499489995325,1.3711114970816587,1.3741424866597358,1.3708631226544936],\"type\":\"scatter3d\"},{\"marker\":{\"color\":\"rgba(48, 25, 52, 0.8)\"},\"mode\":\"markers\",\"name\":\"Cluster 5\",\"x\":[-2.134252115259653,-2.1351662927609363,-2.134718696358357,-2.132164540635974,-2.1330131596112385,-2.1330315043715586,-2.1341409589729277,-2.1399156766206433,-2.136438982218212,-2.130484174143993,-2.1357213288736325,-2.1368892990807593,-2.1361169720491664,-2.1365576567436313,-2.133817748852432,-2.1320548345035597,-2.143241024302285,-2.1361437108268326,-2.1337346152439527,-2.144210260876805,-2.135434426124948,-2.137445387928218,-2.1402551281015114,-2.137887170132927,-2.142438790620051,-2.135513688005043,-2.142758528332295,-2.140917984313457,-2.164527786109594,-2.135649109152447,-2.147724586868914,-2.131566859493393,-2.1373503755800374,-2.151335888555879,-2.1379972425507483,-2.1338903292600753,-2.1641717620414953,-2.1339606543868093,-2.139195866109906,-2.157699486149595,-2.135986680800414,-2.1316137715549623,-2.1337101894039594,-2.1447631685968287,-2.1390817457250724,-2.1354709972231243,-2.1329179409606684,-2.1820365848102647,-2.1622927175550517,-2.152445552323996,-2.137197439601096,-2.1340501951194697,-2.1377097088864674,-2.139038166408817,-2.1348541709665207,-2.137028176204855,-2.139585674251622,-2.1341773186702437,-2.1398056790745934,-2.1388610986939947,-2.1342479081205052,-2.13391922291452,-2.145314067324955,-2.1425212511351996,-2.137569829603632,-2.135126987812683,-2.1388955623487154,-2.1355250857669934,-2.1460925022807635,-2.134688799268003,-2.1396587547693606,-2.1355513835121314,-2.1381674870721197,-2.1442599138495533,-2.140971760379819,-2.1360912074346388,-2.1370446685889033,-2.13673315509637,-2.1378468234043697,-2.1342825443184825,-2.133188377913396,-2.136579838412056,-2.1360097942289746,-2.14534202206666,-2.1378306868324257,-2.1351254223930773,-2.14362283386617,-2.1435319596177864,-2.140417030105597,-2.138527139730717,-2.1348635596857313,-2.1301910175303522,-2.1329124731719635,-2.136411068054069,-2.133212988061869,-2.1356461269703044,-2.1402845579262992,-2.132862826129778,-2.1342759499656117,-2.1377936991438387,-2.1391982644891536,-2.1337772011278036,-2.1316184305411454,-2.1339571666923036,-2.147259251429565],\"y\":[0.47348919269238054,0.478213209633005,0.47655271070341676,0.46344945801965776,0.4685702446963986,0.4687023836946507,0.4739820644062394,0.49912062547252356,0.48475801133600394,0.45740625449525707,0.477380411136437,0.484430180873071,0.48027436749863617,0.48509166322449193,0.4710551800040634,0.4636961439159648,0.5092966521316412,0.480594622990994,0.471271983312966,0.5174271007861185,0.4804571694819693,0.48736919140153057,0.5004717765234249,0.48992069093223006,0.5108360626716133,0.479649170872631,0.5108906301564462,0.5035054374614262,0.5999558300701175,0.48011730773533967,0.5330559420415099,0.45870463483994106,0.48867253159775653,0.5489673022352994,0.49116098327461055,0.4729622911300349,0.6004228715779699,0.47333360656105034,0.49570980058427294,0.5777882837213086,0.48044196191739647,0.46131806284363225,0.47175254044473175,0.519581037567455,0.49645551510643543,0.47912005862890356,0.468402116992722,0.6807517829111351,0.5918031065551527,0.5533201522581297,0.4871884010911538,0.474715193014802,0.4893725978421425,0.49590369685444324,0.47779885001544103,0.4875586956867894,0.49770861366575836,0.4746215180224116,0.49774631235569616,0.49362492445459216,0.4735173805628606,0.4709823468406791,0.5208746456820761,0.5114356534599841,0.4895471941788629,0.47881423925207284,0.49576278897765397,0.48080829578833006,0.5263122619543336,0.4765829308880429,0.49674084867618135,0.4805519838345676,0.49248202561882504,0.5180200520910226,0.5048454974590737,0.48292626254509,0.4867704410949245,0.48568594386490377,0.49101475442229503,0.47332015799659044,0.4690936581947463,0.4859673350247884,0.4828562746055797,0.5242382219425542,0.49073898968264024,0.4757596531751551,0.5155834301250724,0.5160546013675583,0.5023637701350964,0.49416903772689835,0.4776058818953256,0.4526565752893835,0.46752170516483027,0.48433194948795066,0.46998195525313896,0.48053385266646936,0.5005540752532308,0.4684101499432645,0.47452307624977186,0.490250554021794,0.49670582378569383,0.4712263918460506,0.461778510289485,0.4719968523493756,0.5302646867045221],\"z\":[-0.20158378860371717,-0.2020318895007433,-0.2023794745499733,-0.1984489689832726,-0.19898601839516553,-0.19788078933413103,-0.19959869330043775,-0.20941482269827408,-0.2016880700600094,-0.19345143404598894,-0.20678705279186718,-0.20453402242497448,-0.20572991743409627,-0.20344570587377311,-0.2006342766390299,-0.19759396942853982,-0.22510094292411956,-0.20576415395952644,-0.1995676365440565,-0.21854051733946317,-0.20059574500257527,-0.2061535374045017,-0.21083063174031916,-0.20588197349596563,-0.21212604696489717,-0.2020613255246105,-0.2167284941070167,-0.21096901773935797,-0.25949859344631165,-0.20257781480107273,-0.2229128251767077,-0.1991482258477502,-0.20461435633667155,-0.23014022158786177,-0.20645619957106648,-0.198756667576277,-0.25426856609530724,-0.19865730391328473,-0.20821875832574893,-0.23744993193874606,-0.20375548243824732,-0.1950358264312464,-0.19926055659378653,-0.2173750949485823,-0.20700926937542305,-0.2030962385551246,-0.19746111748696749,-0.2809960794245627,-0.25938247046460156,-0.23243141358592215,-0.20551933426255425,-0.1979423111493513,-0.20569913577712742,-0.20740107136447,-0.20003020737480842,-0.20380820182273954,-0.20867355818381442,-0.19993512516687847,-0.20954687534974314,-0.20853235552713262,-0.20083351188992696,-0.201561558554345,-0.21916619242058544,-0.21303989495293482,-0.2048269214019551,-0.20093587769323112,-0.20630069296118714,-0.2007884769425138,-0.21886328654225398,-0.20001724765681994,-0.20961578402742878,-0.20228822588744153,-0.20526749333696367,-0.2199952056483694,-0.2092825505422031,-0.20283246253183115,-0.20378635257580371,-0.20451754946255002,-0.2035223625177998,-0.20106480559034723,-0.19929371687062145,-0.20229921353682506,-0.20213509166028015,-0.2153612277581767,-0.20434214816335264,-0.20302461355870796,-0.21516413990871341,-0.21409236939014403,-0.208328659119546,-0.20404294498176997,-0.2008222065301764,-0.1970043577114195,-0.1991012905171916,-0.20197634962711097,-0.19769292287716855,-0.2028737607420299,-0.20970689395002745,-0.19701836379539028,-0.19993493758211517,-0.20598539870688884,-0.20709206670575164,-0.20004634866450252,-0.19638730266793825,-0.19944268774185972,-0.222337364731764],\"type\":\"scatter3d\"}],                        {\"template\":{\"data\":{\"barpolar\":[{\"marker\":{\"line\":{\"color\":\"#E5ECF6\",\"width\":0.5},\"pattern\":{\"fillmode\":\"overlay\",\"size\":10,\"solidity\":0.2}},\"type\":\"barpolar\"}],\"bar\":[{\"error_x\":{\"color\":\"#2a3f5f\"},\"error_y\":{\"color\":\"#2a3f5f\"},\"marker\":{\"line\":{\"color\":\"#E5ECF6\",\"width\":0.5},\"pattern\":{\"fillmode\":\"overlay\",\"size\":10,\"solidity\":0.2}},\"type\":\"bar\"}],\"carpet\":[{\"aaxis\":{\"endlinecolor\":\"#2a3f5f\",\"gridcolor\":\"white\",\"linecolor\":\"white\",\"minorgridcolor\":\"white\",\"startlinecolor\":\"#2a3f5f\"},\"baxis\":{\"endlinecolor\":\"#2a3f5f\",\"gridcolor\":\"white\",\"linecolor\":\"white\",\"minorgridcolor\":\"white\",\"startlinecolor\":\"#2a3f5f\"},\"type\":\"carpet\"}],\"choropleth\":[{\"colorbar\":{\"outlinewidth\":0,\"ticks\":\"\"},\"type\":\"choropleth\"}],\"contourcarpet\":[{\"colorbar\":{\"outlinewidth\":0,\"ticks\":\"\"},\"type\":\"contourcarpet\"}],\"contour\":[{\"colorbar\":{\"outlinewidth\":0,\"ticks\":\"\"},\"colorscale\":[[0.0,\"#0d0887\"],[0.1111111111111111,\"#46039f\"],[0.2222222222222222,\"#7201a8\"],[0.3333333333333333,\"#9c179e\"],[0.4444444444444444,\"#bd3786\"],[0.5555555555555556,\"#d8576b\"],[0.6666666666666666,\"#ed7953\"],[0.7777777777777778,\"#fb9f3a\"],[0.8888888888888888,\"#fdca26\"],[1.0,\"#f0f921\"]],\"type\":\"contour\"}],\"heatmapgl\":[{\"colorbar\":{\"outlinewidth\":0,\"ticks\":\"\"},\"colorscale\":[[0.0,\"#0d0887\"],[0.1111111111111111,\"#46039f\"],[0.2222222222222222,\"#7201a8\"],[0.3333333333333333,\"#9c179e\"],[0.4444444444444444,\"#bd3786\"],[0.5555555555555556,\"#d8576b\"],[0.6666666666666666,\"#ed7953\"],[0.7777777777777778,\"#fb9f3a\"],[0.8888888888888888,\"#fdca26\"],[1.0,\"#f0f921\"]],\"type\":\"heatmapgl\"}],\"heatmap\":[{\"colorbar\":{\"outlinewidth\":0,\"ticks\":\"\"},\"colorscale\":[[0.0,\"#0d0887\"],[0.1111111111111111,\"#46039f\"],[0.2222222222222222,\"#7201a8\"],[0.3333333333333333,\"#9c179e\"],[0.4444444444444444,\"#bd3786\"],[0.5555555555555556,\"#d8576b\"],[0.6666666666666666,\"#ed7953\"],[0.7777777777777778,\"#fb9f3a\"],[0.8888888888888888,\"#fdca26\"],[1.0,\"#f0f921\"]],\"type\":\"heatmap\"}],\"histogram2dcontour\":[{\"colorbar\":{\"outlinewidth\":0,\"ticks\":\"\"},\"colorscale\":[[0.0,\"#0d0887\"],[0.1111111111111111,\"#46039f\"],[0.2222222222222222,\"#7201a8\"],[0.3333333333333333,\"#9c179e\"],[0.4444444444444444,\"#bd3786\"],[0.5555555555555556,\"#d8576b\"],[0.6666666666666666,\"#ed7953\"],[0.7777777777777778,\"#fb9f3a\"],[0.8888888888888888,\"#fdca26\"],[1.0,\"#f0f921\"]],\"type\":\"histogram2dcontour\"}],\"histogram2d\":[{\"colorbar\":{\"outlinewidth\":0,\"ticks\":\"\"},\"colorscale\":[[0.0,\"#0d0887\"],[0.1111111111111111,\"#46039f\"],[0.2222222222222222,\"#7201a8\"],[0.3333333333333333,\"#9c179e\"],[0.4444444444444444,\"#bd3786\"],[0.5555555555555556,\"#d8576b\"],[0.6666666666666666,\"#ed7953\"],[0.7777777777777778,\"#fb9f3a\"],[0.8888888888888888,\"#fdca26\"],[1.0,\"#f0f921\"]],\"type\":\"histogram2d\"}],\"histogram\":[{\"marker\":{\"pattern\":{\"fillmode\":\"overlay\",\"size\":10,\"solidity\":0.2}},\"type\":\"histogram\"}],\"mesh3d\":[{\"colorbar\":{\"outlinewidth\":0,\"ticks\":\"\"},\"type\":\"mesh3d\"}],\"parcoords\":[{\"line\":{\"colorbar\":{\"outlinewidth\":0,\"ticks\":\"\"}},\"type\":\"parcoords\"}],\"pie\":[{\"automargin\":true,\"type\":\"pie\"}],\"scatter3d\":[{\"line\":{\"colorbar\":{\"outlinewidth\":0,\"ticks\":\"\"}},\"marker\":{\"colorbar\":{\"outlinewidth\":0,\"ticks\":\"\"}},\"type\":\"scatter3d\"}],\"scattercarpet\":[{\"marker\":{\"colorbar\":{\"outlinewidth\":0,\"ticks\":\"\"}},\"type\":\"scattercarpet\"}],\"scattergeo\":[{\"marker\":{\"colorbar\":{\"outlinewidth\":0,\"ticks\":\"\"}},\"type\":\"scattergeo\"}],\"scattergl\":[{\"marker\":{\"colorbar\":{\"outlinewidth\":0,\"ticks\":\"\"}},\"type\":\"scattergl\"}],\"scattermapbox\":[{\"marker\":{\"colorbar\":{\"outlinewidth\":0,\"ticks\":\"\"}},\"type\":\"scattermapbox\"}],\"scatterpolargl\":[{\"marker\":{\"colorbar\":{\"outlinewidth\":0,\"ticks\":\"\"}},\"type\":\"scatterpolargl\"}],\"scatterpolar\":[{\"marker\":{\"colorbar\":{\"outlinewidth\":0,\"ticks\":\"\"}},\"type\":\"scatterpolar\"}],\"scatter\":[{\"fillpattern\":{\"fillmode\":\"overlay\",\"size\":10,\"solidity\":0.2},\"type\":\"scatter\"}],\"scatterternary\":[{\"marker\":{\"colorbar\":{\"outlinewidth\":0,\"ticks\":\"\"}},\"type\":\"scatterternary\"}],\"surface\":[{\"colorbar\":{\"outlinewidth\":0,\"ticks\":\"\"},\"colorscale\":[[0.0,\"#0d0887\"],[0.1111111111111111,\"#46039f\"],[0.2222222222222222,\"#7201a8\"],[0.3333333333333333,\"#9c179e\"],[0.4444444444444444,\"#bd3786\"],[0.5555555555555556,\"#d8576b\"],[0.6666666666666666,\"#ed7953\"],[0.7777777777777778,\"#fb9f3a\"],[0.8888888888888888,\"#fdca26\"],[1.0,\"#f0f921\"]],\"type\":\"surface\"}],\"table\":[{\"cells\":{\"fill\":{\"color\":\"#EBF0F8\"},\"line\":{\"color\":\"white\"}},\"header\":{\"fill\":{\"color\":\"#C8D4E3\"},\"line\":{\"color\":\"white\"}},\"type\":\"table\"}]},\"layout\":{\"annotationdefaults\":{\"arrowcolor\":\"#2a3f5f\",\"arrowhead\":0,\"arrowwidth\":1},\"autotypenumbers\":\"strict\",\"coloraxis\":{\"colorbar\":{\"outlinewidth\":0,\"ticks\":\"\"}},\"colorscale\":{\"diverging\":[[0,\"#8e0152\"],[0.1,\"#c51b7d\"],[0.2,\"#de77ae\"],[0.3,\"#f1b6da\"],[0.4,\"#fde0ef\"],[0.5,\"#f7f7f7\"],[0.6,\"#e6f5d0\"],[0.7,\"#b8e186\"],[0.8,\"#7fbc41\"],[0.9,\"#4d9221\"],[1,\"#276419\"]],\"sequential\":[[0.0,\"#0d0887\"],[0.1111111111111111,\"#46039f\"],[0.2222222222222222,\"#7201a8\"],[0.3333333333333333,\"#9c179e\"],[0.4444444444444444,\"#bd3786\"],[0.5555555555555556,\"#d8576b\"],[0.6666666666666666,\"#ed7953\"],[0.7777777777777778,\"#fb9f3a\"],[0.8888888888888888,\"#fdca26\"],[1.0,\"#f0f921\"]],\"sequentialminus\":[[0.0,\"#0d0887\"],[0.1111111111111111,\"#46039f\"],[0.2222222222222222,\"#7201a8\"],[0.3333333333333333,\"#9c179e\"],[0.4444444444444444,\"#bd3786\"],[0.5555555555555556,\"#d8576b\"],[0.6666666666666666,\"#ed7953\"],[0.7777777777777778,\"#fb9f3a\"],[0.8888888888888888,\"#fdca26\"],[1.0,\"#f0f921\"]]},\"colorway\":[\"#636efa\",\"#EF553B\",\"#00cc96\",\"#ab63fa\",\"#FFA15A\",\"#19d3f3\",\"#FF6692\",\"#B6E880\",\"#FF97FF\",\"#FECB52\"],\"font\":{\"color\":\"#2a3f5f\"},\"geo\":{\"bgcolor\":\"white\",\"lakecolor\":\"white\",\"landcolor\":\"#E5ECF6\",\"showlakes\":true,\"showland\":true,\"subunitcolor\":\"white\"},\"hoverlabel\":{\"align\":\"left\"},\"hovermode\":\"closest\",\"mapbox\":{\"style\":\"light\"},\"paper_bgcolor\":\"white\",\"plot_bgcolor\":\"#E5ECF6\",\"polar\":{\"angularaxis\":{\"gridcolor\":\"white\",\"linecolor\":\"white\",\"ticks\":\"\"},\"bgcolor\":\"#E5ECF6\",\"radialaxis\":{\"gridcolor\":\"white\",\"linecolor\":\"white\",\"ticks\":\"\"}},\"scene\":{\"xaxis\":{\"backgroundcolor\":\"#E5ECF6\",\"gridcolor\":\"white\",\"gridwidth\":2,\"linecolor\":\"white\",\"showbackground\":true,\"ticks\":\"\",\"zerolinecolor\":\"white\"},\"yaxis\":{\"backgroundcolor\":\"#E5ECF6\",\"gridcolor\":\"white\",\"gridwidth\":2,\"linecolor\":\"white\",\"showbackground\":true,\"ticks\":\"\",\"zerolinecolor\":\"white\"},\"zaxis\":{\"backgroundcolor\":\"#E5ECF6\",\"gridcolor\":\"white\",\"gridwidth\":2,\"linecolor\":\"white\",\"showbackground\":true,\"ticks\":\"\",\"zerolinecolor\":\"white\"}},\"shapedefaults\":{\"line\":{\"color\":\"#2a3f5f\"}},\"ternary\":{\"aaxis\":{\"gridcolor\":\"white\",\"linecolor\":\"white\",\"ticks\":\"\"},\"baxis\":{\"gridcolor\":\"white\",\"linecolor\":\"white\",\"ticks\":\"\"},\"bgcolor\":\"#E5ECF6\",\"caxis\":{\"gridcolor\":\"white\",\"linecolor\":\"white\",\"ticks\":\"\"}},\"title\":{\"x\":0.05},\"xaxis\":{\"automargin\":true,\"gridcolor\":\"white\",\"linecolor\":\"white\",\"ticks\":\"\",\"title\":{\"standoff\":15},\"zerolinecolor\":\"white\",\"zerolinewidth\":2},\"yaxis\":{\"automargin\":true,\"gridcolor\":\"white\",\"linecolor\":\"white\",\"ticks\":\"\",\"title\":{\"standoff\":15},\"zerolinecolor\":\"white\",\"zerolinewidth\":2}}},\"title\":{\"text\":\"Visualizing Clusters in Three Dimensions Using PCA\"},\"xaxis\":{\"ticklen\":5,\"title\":{\"text\":\"PC1\"},\"zeroline\":false},\"yaxis\":{\"ticklen\":5,\"title\":{\"text\":\"PC2\"},\"zeroline\":false}},                        {\"responsive\": true}                    ).then(function(){\n",
       "                            \n",
       "var gd = document.getElementById('184284a5-51ac-49ee-b44a-fe6a579c174a');\n",
       "var x = new MutationObserver(function (mutations, observer) {{\n",
       "        var display = window.getComputedStyle(gd).display;\n",
       "        if (!display || display === 'none') {{\n",
       "            console.log([gd, 'removed!']);\n",
       "            Plotly.purge(gd);\n",
       "            observer.disconnect();\n",
       "        }}\n",
       "}});\n",
       "\n",
       "// Listen for the removal of the full notebook cells\n",
       "var notebookContainer = gd.closest('#notebook-container');\n",
       "if (notebookContainer) {{\n",
       "    x.observe(notebookContainer, {childList: true});\n",
       "}}\n",
       "\n",
       "// Listen for the clearing of the current output cell\n",
       "var outputEl = gd.closest('.output');\n",
       "if (outputEl) {{\n",
       "    x.observe(outputEl, {childList: true});\n",
       "}}\n",
       "\n",
       "                        })                };                });            </script>        </div>"
      ]
     },
     "metadata": {},
     "output_type": "display_data"
    }
   ],
   "source": [
    "pca_1d = PCA(n_components=1)\n",
    "pca_2d = PCA(n_components=2)\n",
    "pca_3d = PCA(n_components=3)\n",
    "\n",
    "PCs_1d = pd.DataFrame(pca_1d.fit_transform(scaled_feature))\n",
    "PCs_2d = pd.DataFrame(pca_2d.fit_transform(scaled_feature))\n",
    "PCs_3d = pd.DataFrame(pca_3d.fit_transform(scaled_feature))\n",
    "\n",
    "PCs_1d.columns = [\"PC1_1d\"]\n",
    "PCs_2d.columns = [\"PC1_2d\", \"PC2_2d\"]\n",
    "PCs_3d.columns = [\"PC1_3d\", \"PC2_3d\", \"PC3_3d\"]\n",
    "\n",
    "scaled_feature['Cluster']=label\n",
    "plotX = pd.concat([scaled_feature,PCs_1d,PCs_2d,PCs_3d], axis=1, join='inner')\n",
    "plotX[\"dummy\"] = 0\n",
    "\n",
    "cluster0 = plotX[plotX[\"Cluster\"] == 0]\n",
    "cluster1 = plotX[plotX[\"Cluster\"] == 1]\n",
    "cluster2 = plotX[plotX[\"Cluster\"] == 2]\n",
    "cluster3 = plotX[plotX[\"Cluster\"] == 3]\n",
    "cluster4 = plotX[plotX[\"Cluster\"] == 4]\n",
    "cluster5 = plotX[plotX[\"Cluster\"] == 5]\n",
    "\n",
    "init_notebook_mode(connected=True)\n",
    "\n",
    "#Instructions for building the 3-D plot\n",
    "\n",
    "#trace1 is for 'Cluster 0'\n",
    "trace1 = go.Scatter3d(\n",
    "                    x = cluster0[\"PC1_3d\"],\n",
    "                    y = cluster0[\"PC2_3d\"],\n",
    "                    z = cluster0[\"PC3_3d\"],\n",
    "                    mode = \"markers\",\n",
    "                    name = \"Cluster 0\",\n",
    "                    marker = dict(color = 'rgba(255, 128, 255, 0.8)'),\n",
    "                    text = None)\n",
    "\n",
    "#trace2 is for 'Cluster 1'\n",
    "trace2 = go.Scatter3d(\n",
    "                    x = cluster1[\"PC1_3d\"],\n",
    "                    y = cluster1[\"PC2_3d\"],\n",
    "                    z = cluster1[\"PC3_3d\"],\n",
    "                    mode = \"markers\",\n",
    "                    name = \"Cluster 1\",\n",
    "                    marker = dict(color = 'rgba(255, 128, 2, 0.8)'),\n",
    "                    text = None)\n",
    "\n",
    "#trace3 is for 'Cluster 2'\n",
    "trace3 = go.Scatter3d(\n",
    "                    x = cluster2[\"PC1_3d\"],\n",
    "                    y = cluster2[\"PC2_3d\"],\n",
    "                    z = cluster2[\"PC3_3d\"],\n",
    "                    mode = \"markers\",\n",
    "                    name = \"Cluster 2\",\n",
    "                    marker = dict(color = 'rgba(0, 255, 200, 0.8)'),\n",
    "                    text = None)\n",
    "\n",
    "#trace4 is for 'Cluster 3'\n",
    "trace4 = go.Scatter3d(\n",
    "                    x = cluster3[\"PC1_3d\"],\n",
    "                    y = cluster3[\"PC2_3d\"],\n",
    "                    z = cluster3[\"PC3_3d\"],\n",
    "                    mode = \"markers\",\n",
    "                    name = \"Cluster 3\",\n",
    "                    marker = dict(color = 'rgba(255, 255, 0, 0.8)'),\n",
    "                    text = None)\n",
    "\n",
    "#trace5 is for 'Cluster 4'\n",
    "trace5 = go.Scatter3d(\n",
    "                    x = cluster4[\"PC1_3d\"],\n",
    "                    y = cluster4[\"PC2_3d\"],\n",
    "                    z = cluster4[\"PC3_3d\"],\n",
    "                    mode = \"markers\",\n",
    "                    name = \"Cluster 4\",\n",
    "                    marker = dict(color = 'rgba(144, 238, 144, 0.8)'),\n",
    "                    text = None)\n",
    "\n",
    "#trace6 is for 'Cluster 5'\n",
    "trace6 = go.Scatter3d(\n",
    "                    x = cluster5[\"PC1_3d\"],\n",
    "                    y = cluster5[\"PC2_3d\"],\n",
    "                    z = cluster5[\"PC3_3d\"],\n",
    "                    mode = \"markers\",\n",
    "                    name = \"Cluster 5\",\n",
    "                    marker = dict(color = 'rgba(48, 25, 52, 0.8)'),\n",
    "                    text = None)\n",
    "\n",
    "data = [trace1, trace2, trace3, trace4, trace5, trace6]\n",
    "\n",
    "title = \"Visualizing Clusters in Three Dimensions Using PCA\"\n",
    "\n",
    "layout = dict(title = title,\n",
    "              xaxis= dict(title= 'PC1',ticklen= 5,zeroline= False),\n",
    "              yaxis= dict(title= 'PC2',ticklen= 5,zeroline= False),\n",
    "             )\n",
    "\n",
    "fig = dict(data = data, layout = layout)\n",
    "\n",
    "iplot(fig)\n"
   ]
  },
  {
   "cell_type": "code",
   "execution_count": null,
   "id": "f9224cb8",
   "metadata": {},
   "outputs": [],
   "source": []
  }
 ],
 "metadata": {
  "kernelspec": {
   "display_name": "Python 3 (ipykernel)",
   "language": "python",
   "name": "python3"
  },
  "language_info": {
   "codemirror_mode": {
    "name": "ipython",
    "version": 3
   },
   "file_extension": ".py",
   "mimetype": "text/x-python",
   "name": "python",
   "nbconvert_exporter": "python",
   "pygments_lexer": "ipython3",
   "version": "3.9.16"
  }
 },
 "nbformat": 4,
 "nbformat_minor": 5
}
